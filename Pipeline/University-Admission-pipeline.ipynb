{
 "cells": [
  {
   "cell_type": "markdown",
   "metadata": {},
   "source": [
    "### Import Libraries"
   ]
  },
  {
   "cell_type": "code",
   "execution_count": 1,
   "metadata": {},
   "outputs": [
    {
     "name": "stdout",
     "output_type": "stream",
     "text": [
      "Requirement already up-to-date: scipy==1.2 in c:\\users\\sillians\\appdata\\local\\packages\\pythonsoftwarefoundation.python.3.7_qbz5n2kfra8p0\\localcache\\local-packages\\python37\\site-packages (1.2.0)\n",
      "Requirement already satisfied, skipping upgrade: numpy>=1.8.2 in c:\\users\\sillians\\appdata\\local\\packages\\pythonsoftwarefoundation.python.3.7_qbz5n2kfra8p0\\localcache\\local-packages\\python37\\site-packages (from scipy==1.2) (1.18.2)\n",
      "Found existing installation: statsmodels 0.10.0rc2\n",
      "Uninstalling statsmodels-0.10.0rc2:\n",
      "  Successfully uninstalled statsmodels-0.10.0rc2\n",
      "Collecting statsmodels==0.10.0rc2\n",
      "  Using cached statsmodels-0.10.0rc2-cp37-none-win_amd64.whl (7.6 MB)\n",
      "Requirement already satisfied: patsy>=0.4.0 in c:\\users\\sillians\\appdata\\local\\packages\\pythonsoftwarefoundation.python.3.7_qbz5n2kfra8p0\\localcache\\local-packages\\python37\\site-packages (from statsmodels==0.10.0rc2) (0.5.1)\n",
      "Requirement already satisfied: numpy>=1.11 in c:\\users\\sillians\\appdata\\local\\packages\\pythonsoftwarefoundation.python.3.7_qbz5n2kfra8p0\\localcache\\local-packages\\python37\\site-packages (from statsmodels==0.10.0rc2) (1.18.2)\n",
      "Requirement already satisfied: pandas>=0.19 in c:\\users\\sillians\\appdata\\local\\packages\\pythonsoftwarefoundation.python.3.7_qbz5n2kfra8p0\\localcache\\local-packages\\python37\\site-packages (from statsmodels==0.10.0rc2) (0.23.4)\n",
      "Requirement already satisfied: scipy>=0.18 in c:\\users\\sillians\\appdata\\local\\packages\\pythonsoftwarefoundation.python.3.7_qbz5n2kfra8p0\\localcache\\local-packages\\python37\\site-packages (from statsmodels==0.10.0rc2) (1.2.0)\n",
      "Requirement already satisfied: six in c:\\users\\sillians\\appdata\\local\\packages\\pythonsoftwarefoundation.python.3.7_qbz5n2kfra8p0\\localcache\\local-packages\\python37\\site-packages (from patsy>=0.4.0->statsmodels==0.10.0rc2) (1.13.0)\n",
      "Requirement already satisfied: pytz>=2011k in c:\\users\\sillians\\appdata\\local\\packages\\pythonsoftwarefoundation.python.3.7_qbz5n2kfra8p0\\localcache\\local-packages\\python37\\site-packages (from pandas>=0.19->statsmodels==0.10.0rc2) (2019.3)\n",
      "Requirement already satisfied: python-dateutil>=2.5.0 in c:\\users\\sillians\\appdata\\local\\packages\\pythonsoftwarefoundation.python.3.7_qbz5n2kfra8p0\\localcache\\local-packages\\python37\\site-packages (from pandas>=0.19->statsmodels==0.10.0rc2) (2.8.1)\n",
      "Installing collected packages: statsmodels\n",
      "Successfully installed statsmodels-0.10.0rc2\n"
     ]
    }
   ],
   "source": [
    "import numpy as np\n",
    "import pandas as  pd\n",
    "import os\n",
    "import matplotlib.pyplot as plt\n",
    "\n",
    "# Evaluation\n",
    "from sklearn.metrics import mean_squared_error\n",
    "\n",
    "!python3 -m pip install scipy==1.2 --upgrade\n",
    "# !pip3 list\n",
    "!pip3 uninstall statsmodels -y\n",
    "!pip3 install statsmodels==0.10.0rc2 --pre --user"
   ]
  },
  {
   "cell_type": "code",
   "execution_count": 2,
   "metadata": {},
   "outputs": [
    {
     "name": "stdout",
     "output_type": "stream",
     "text": [
      "Requirement already up-to-date: pip in c:\\users\\sillians\\appdata\\roaming\\python\\python37\\site-packages (20.2.4)\n",
      "Requirement already satisfied: pandas==0.23.4 in c:\\users\\sillians\\appdata\\local\\packages\\pythonsoftwarefoundation.python.3.7_qbz5n2kfra8p0\\localcache\\local-packages\\python37\\site-packages (0.23.4)\n",
      "Requirement already satisfied: matplotlib==3.0.3 in c:\\users\\sillians\\appdata\\local\\packages\\pythonsoftwarefoundation.python.3.7_qbz5n2kfra8p0\\localcache\\local-packages\\python37\\site-packages (3.0.3)\n",
      "Collecting scipy==1.2.1\n",
      "  Using cached scipy-1.2.1-cp37-cp37m-win_amd64.whl (30.0 MB)\n",
      "Collecting scikit-learn==0.22\n",
      "  Using cached scikit_learn-0.22-cp37-cp37m-win_amd64.whl (6.2 MB)\n",
      "Collecting tensorflow==2.0\n",
      "  Using cached tensorflow-2.0.0-cp37-cp37m-win_amd64.whl (48.1 MB)\n",
      "Processing c:\\users\\sillians\\appdata\\local\\pip\\cache\\wheels\\d1\\32\\23\\2a1db3765ec19c91503843380a4f92b6530598949c661c5fa2\\keras-1.2.2-py3-none-any.whl\n",
      "Requirement already satisfied: pytz>=2011k in c:\\users\\sillians\\appdata\\local\\packages\\pythonsoftwarefoundation.python.3.7_qbz5n2kfra8p0\\localcache\\local-packages\\python37\\site-packages (from pandas==0.23.4) (2019.3)\n",
      "Requirement already satisfied: python-dateutil>=2.5.0 in c:\\users\\sillians\\appdata\\local\\packages\\pythonsoftwarefoundation.python.3.7_qbz5n2kfra8p0\\localcache\\local-packages\\python37\\site-packages (from pandas==0.23.4) (2.8.1)\n",
      "Requirement already satisfied: numpy>=1.9.0 in c:\\users\\sillians\\appdata\\local\\packages\\pythonsoftwarefoundation.python.3.7_qbz5n2kfra8p0\\localcache\\local-packages\\python37\\site-packages (from pandas==0.23.4) (1.18.2)\n",
      "Requirement already satisfied: cycler>=0.10 in c:\\users\\sillians\\appdata\\local\\packages\\pythonsoftwarefoundation.python.3.7_qbz5n2kfra8p0\\localcache\\local-packages\\python37\\site-packages (from matplotlib==3.0.3) (0.10.0)\n",
      "Requirement already satisfied: kiwisolver>=1.0.1 in c:\\users\\sillians\\appdata\\local\\packages\\pythonsoftwarefoundation.python.3.7_qbz5n2kfra8p0\\localcache\\local-packages\\python37\\site-packages (from matplotlib==3.0.3) (1.1.0)\n",
      "Requirement already satisfied: pyparsing!=2.0.4,!=2.1.2,!=2.1.6,>=2.0.1 in c:\\users\\sillians\\appdata\\local\\packages\\pythonsoftwarefoundation.python.3.7_qbz5n2kfra8p0\\localcache\\local-packages\\python37\\site-packages (from matplotlib==3.0.3) (2.4.6)\n",
      "Requirement already satisfied: joblib>=0.11 in c:\\users\\sillians\\appdata\\local\\packages\\pythonsoftwarefoundation.python.3.7_qbz5n2kfra8p0\\localcache\\local-packages\\python37\\site-packages (from scikit-learn==0.22) (0.14.1)\n",
      "Requirement already satisfied: protobuf>=3.6.1 in c:\\users\\sillians\\appdata\\local\\packages\\pythonsoftwarefoundation.python.3.7_qbz5n2kfra8p0\\localcache\\local-packages\\python37\\site-packages (from tensorflow==2.0) (3.13.0)\n",
      "Collecting absl-py>=0.7.0\n",
      "  Using cached absl_py-0.10.0-py3-none-any.whl (127 kB)\n",
      "Collecting keras-preprocessing>=1.0.5\n",
      "  Using cached Keras_Preprocessing-1.1.2-py2.py3-none-any.whl (42 kB)\n",
      "Processing c:\\users\\sillians\\appdata\\local\\pip\\cache\\wheels\\21\\7f\\02\\420f32a803f7d0967b48dd823da3f558c5166991bfd204eef3\\gast-0.2.2-py3-none-any.whl\n",
      "Collecting tensorboard<2.1.0,>=2.0.0\n",
      "  Using cached tensorboard-2.0.2-py3-none-any.whl (3.8 MB)\n",
      "Collecting tensorflow-estimator<2.1.0,>=2.0.0\n",
      "  Using cached tensorflow_estimator-2.0.1-py2.py3-none-any.whl (449 kB)\n",
      "Requirement already satisfied: wrapt>=1.11.1 in c:\\users\\sillians\\appdata\\local\\packages\\pythonsoftwarefoundation.python.3.7_qbz5n2kfra8p0\\localcache\\local-packages\\python37\\site-packages (from tensorflow==2.0) (1.12.1)\n",
      "Collecting grpcio>=1.8.6\n",
      "  Downloading grpcio-1.33.1-cp37-cp37m-win_amd64.whl (2.5 MB)\n",
      "Collecting opt-einsum>=2.3.2\n",
      "  Using cached opt_einsum-3.3.0-py3-none-any.whl (65 kB)\n",
      "Collecting google-pasta>=0.1.6\n",
      "  Using cached google_pasta-0.2.0-py3-none-any.whl (57 kB)\n",
      "Requirement already satisfied: wheel>=0.26 in c:\\users\\sillians\\appdata\\local\\packages\\pythonsoftwarefoundation.python.3.7_qbz5n2kfra8p0\\localcache\\local-packages\\python37\\site-packages (from tensorflow==2.0) (0.33.6)\n",
      "Requirement already satisfied: six>=1.10.0 in c:\\users\\sillians\\appdata\\local\\packages\\pythonsoftwarefoundation.python.3.7_qbz5n2kfra8p0\\localcache\\local-packages\\python37\\site-packages (from tensorflow==2.0) (1.13.0)\n",
      "Collecting astor>=0.6.0\n",
      "  Using cached astor-0.8.1-py2.py3-none-any.whl (27 kB)\n",
      "Collecting keras-applications>=1.0.8\n",
      "  Using cached Keras_Applications-1.0.8-py3-none-any.whl (50 kB)\n",
      "Processing c:\\users\\sillians\\appdata\\local\\pip\\cache\\wheels\\7c\\06\\54\\bc84598ba1daf8f970247f550b175aaaee85f68b4b0c5ab2c6\\termcolor-1.1.0-cp37-none-any.whl\n",
      "Processing c:\\users\\sillians\\appdata\\local\\pip\\cache\\wheels\\26\\68\\6f\\745330367ce7822fe0cd863712858151f5723a0a5e322cc144\\theano-1.0.5-py3-none-any.whl\n",
      "Requirement already satisfied: pyyaml in c:\\users\\sillians\\appdata\\local\\packages\\pythonsoftwarefoundation.python.3.7_qbz5n2kfra8p0\\localcache\\local-packages\\python37\\site-packages (from keras==1.2.2) (5.3.1)\n",
      "Requirement already satisfied: setuptools in c:\\program files\\windowsapps\\pythonsoftwarefoundation.python.3.7_3.7.2544.0_x64__qbz5n2kfra8p0\\lib\\site-packages (from kiwisolver>=1.0.1->matplotlib==3.0.3) (47.1.0)\n",
      "Collecting google-auth-oauthlib<0.5,>=0.4.1\n",
      "  Using cached google_auth_oauthlib-0.4.1-py2.py3-none-any.whl (18 kB)\n",
      "Collecting google-auth<2,>=1.6.3\n",
      "  Using cached google_auth-1.22.1-py2.py3-none-any.whl (114 kB)\n",
      "Collecting markdown>=2.6.8\n",
      "  Downloading Markdown-3.3.3-py3-none-any.whl (96 kB)\n",
      "Collecting werkzeug>=0.11.15\n",
      "  Using cached Werkzeug-1.0.1-py2.py3-none-any.whl (298 kB)\n",
      "Requirement already satisfied: requests<3,>=2.21.0 in c:\\users\\sillians\\appdata\\local\\packages\\pythonsoftwarefoundation.python.3.7_qbz5n2kfra8p0\\localcache\\local-packages\\python37\\site-packages (from tensorboard<2.1.0,>=2.0.0->tensorflow==2.0) (2.22.0)\n",
      "Collecting h5py\n",
      "  Using cached h5py-2.10.0-cp37-cp37m-win_amd64.whl (2.5 MB)\n",
      "Requirement already satisfied: requests-oauthlib>=0.7.0 in c:\\users\\sillians\\appdata\\local\\packages\\pythonsoftwarefoundation.python.3.7_qbz5n2kfra8p0\\localcache\\local-packages\\python37\\site-packages (from google-auth-oauthlib<0.5,>=0.4.1->tensorboard<2.1.0,>=2.0.0->tensorflow==2.0) (1.3.0)\n",
      "Requirement already satisfied: pyasn1-modules>=0.2.1 in c:\\users\\sillians\\appdata\\local\\packages\\pythonsoftwarefoundation.python.3.7_qbz5n2kfra8p0\\localcache\\local-packages\\python37\\site-packages (from google-auth<2,>=1.6.3->tensorboard<2.1.0,>=2.0.0->tensorflow==2.0) (0.2.8)\n",
      "Requirement already satisfied: rsa<5,>=3.1.4; python_version >= \"3.5\" in c:\\users\\sillians\\appdata\\local\\packages\\pythonsoftwarefoundation.python.3.7_qbz5n2kfra8p0\\localcache\\local-packages\\python37\\site-packages (from google-auth<2,>=1.6.3->tensorboard<2.1.0,>=2.0.0->tensorflow==2.0) (4.6)\n",
      "Requirement already satisfied: cachetools<5.0,>=2.0.0 in c:\\users\\sillians\\appdata\\local\\packages\\pythonsoftwarefoundation.python.3.7_qbz5n2kfra8p0\\localcache\\local-packages\\python37\\site-packages (from google-auth<2,>=1.6.3->tensorboard<2.1.0,>=2.0.0->tensorflow==2.0) (4.1.1)\n",
      "Requirement already satisfied: importlib-metadata; python_version < \"3.8\" in c:\\users\\sillians\\appdata\\local\\packages\\pythonsoftwarefoundation.python.3.7_qbz5n2kfra8p0\\localcache\\local-packages\\python37\\site-packages (from markdown>=2.6.8->tensorboard<2.1.0,>=2.0.0->tensorflow==2.0) (1.6.0)\n",
      "Requirement already satisfied: certifi>=2017.4.17 in c:\\users\\sillians\\appdata\\local\\packages\\pythonsoftwarefoundation.python.3.7_qbz5n2kfra8p0\\localcache\\local-packages\\python37\\site-packages (from requests<3,>=2.21.0->tensorboard<2.1.0,>=2.0.0->tensorflow==2.0) (2019.11.28)\n",
      "Requirement already satisfied: chardet<3.1.0,>=3.0.2 in c:\\users\\sillians\\appdata\\local\\packages\\pythonsoftwarefoundation.python.3.7_qbz5n2kfra8p0\\localcache\\local-packages\\python37\\site-packages (from requests<3,>=2.21.0->tensorboard<2.1.0,>=2.0.0->tensorflow==2.0) (3.0.4)\n",
      "Requirement already satisfied: urllib3!=1.25.0,!=1.25.1,<1.26,>=1.21.1 in c:\\users\\sillians\\appdata\\local\\packages\\pythonsoftwarefoundation.python.3.7_qbz5n2kfra8p0\\localcache\\local-packages\\python37\\site-packages (from requests<3,>=2.21.0->tensorboard<2.1.0,>=2.0.0->tensorflow==2.0) (1.25.7)\n",
      "Requirement already satisfied: idna<2.9,>=2.5 in c:\\users\\sillians\\appdata\\local\\packages\\pythonsoftwarefoundation.python.3.7_qbz5n2kfra8p0\\localcache\\local-packages\\python37\\site-packages (from requests<3,>=2.21.0->tensorboard<2.1.0,>=2.0.0->tensorflow==2.0) (2.8)\n",
      "Requirement already satisfied: oauthlib>=3.0.0 in c:\\users\\sillians\\appdata\\local\\packages\\pythonsoftwarefoundation.python.3.7_qbz5n2kfra8p0\\localcache\\local-packages\\python37\\site-packages (from requests-oauthlib>=0.7.0->google-auth-oauthlib<0.5,>=0.4.1->tensorboard<2.1.0,>=2.0.0->tensorflow==2.0) (3.1.0)\n",
      "Requirement already satisfied: pyasn1<0.5.0,>=0.4.6 in c:\\users\\sillians\\appdata\\local\\packages\\pythonsoftwarefoundation.python.3.7_qbz5n2kfra8p0\\localcache\\local-packages\\python37\\site-packages (from pyasn1-modules>=0.2.1->google-auth<2,>=1.6.3->tensorboard<2.1.0,>=2.0.0->tensorflow==2.0) (0.4.8)\n",
      "Requirement already satisfied: zipp>=0.5 in c:\\users\\sillians\\appdata\\local\\packages\\pythonsoftwarefoundation.python.3.7_qbz5n2kfra8p0\\localcache\\local-packages\\python37\\site-packages (from importlib-metadata; python_version < \"3.8\"->markdown>=2.6.8->tensorboard<2.1.0,>=2.0.0->tensorflow==2.0) (3.1.0)\n",
      "Installing collected packages: scipy, scikit-learn, absl-py, keras-preprocessing, gast, google-auth, google-auth-oauthlib, markdown, werkzeug, grpcio, tensorboard, tensorflow-estimator, opt-einsum, google-pasta, astor, h5py, keras-applications, termcolor, tensorflow, theano, keras\n",
      "  Attempting uninstall: scipy\n",
      "    Found existing installation: scipy 1.2.0\n",
      "    Uninstalling scipy-1.2.0:\n",
      "      Successfully uninstalled scipy-1.2.0\n",
      "  Attempting uninstall: scikit-learn\n",
      "    Found existing installation: scikit-learn 0.22.2.post1\n",
      "    Uninstalling scikit-learn-0.22.2.post1:\n",
      "      Successfully uninstalled scikit-learn-0.22.2.post1\n",
      "  Rolling back uninstall of scikit-learn\n",
      "  Moving to c:\\users\\sillians\\appdata\\local\\packages\\pythonsoftwarefoundation.python.3.7_qbz5n2kfra8p0\\localcache\\local-packages\\python37\\site-packages\\scikit_learn-0.22.2.post1.dist-info\\\n",
      "   from c:\\users\\sillians\\appdata\\local\\packages\\pythonsoftwarefoundation.python.3.7_qbz5n2kfra8p0\\localcache\\local-packages\\python37\\site-packages\\~cikit_learn-0.22.2.post1.dist-info\n",
      "  Moving to c:\\users\\sillians\\appdata\\local\\packages\\pythonsoftwarefoundation.python.3.7_qbz5n2kfra8p0\\localcache\\local-packages\\python37\\site-packages\\sklearn\\\n",
      "   from c:\\users\\sillians\\appdata\\local\\packages\\pythonsoftwarefoundation.python.3.7_qbz5n2kfra8p0\\localcache\\local-packages\\python37\\site-packages\\~klearn\n"
     ]
    },
    {
     "name": "stderr",
     "output_type": "stream",
     "text": [
      "ERROR: Could not install packages due to an EnvironmentError: [Errno 2] No such file or directory: 'C:\\\\Users\\\\Sillians\\\\AppData\\\\Local\\\\Packages\\\\PythonSoftwareFoundation.Python.3.7_qbz5n2kfra8p0\\\\LocalCache\\\\local-packages\\\\Python37\\\\site-packages\\\\sklearn\\\\datasets\\\\tests\\\\data\\\\openml\\\\292\\\\api-v1-json-data-list-data_name-australian-limit-2-data_version-1-status-deactivated.json.gz'\n",
      "\n"
     ]
    }
   ],
   "source": [
    "!python -m pip install --user --upgrade pip\n",
    "!pip3 install pandas==0.23.4 matplotlib==3.0.3 scipy==1.2.1 scikit-learn==0.22 tensorflow==2.0 keras==1.2.2 --user"
   ]
  },
  {
   "cell_type": "markdown",
   "metadata": {},
   "source": [
    "### Install or update the pipelines SDK"
   ]
  },
  {
   "cell_type": "code",
   "execution_count": 3,
   "metadata": {},
   "outputs": [
    {
     "name": "stdout",
     "output_type": "stream",
     "text": [
      "Collecting kfp\n",
      "  Downloading kfp-1.0.4.tar.gz (116 kB)\n",
      "Requirement already satisfied, skipping upgrade: PyYAML in c:\\users\\sillians\\appdata\\local\\packages\\pythonsoftwarefoundation.python.3.7_qbz5n2kfra8p0\\localcache\\local-packages\\python37\\site-packages (from kfp) (5.3.1)\n",
      "Requirement already satisfied, skipping upgrade: google-cloud-storage>=1.13.0 in c:\\users\\sillians\\appdata\\local\\packages\\pythonsoftwarefoundation.python.3.7_qbz5n2kfra8p0\\localcache\\local-packages\\python37\\site-packages (from kfp) (1.13.0)\n",
      "Requirement already satisfied, skipping upgrade: kubernetes<12.0.0,>=8.0.0 in c:\\users\\sillians\\appdata\\local\\packages\\pythonsoftwarefoundation.python.3.7_qbz5n2kfra8p0\\localcache\\local-packages\\python37\\site-packages (from kfp) (8.0.0)\n",
      "Requirement already satisfied, skipping upgrade: google-auth>=1.6.1 in c:\\users\\sillians\\appdata\\local\\packages\\pythonsoftwarefoundation.python.3.7_qbz5n2kfra8p0\\localcache\\local-packages\\python37\\site-packages (from kfp) (1.6.1)\n",
      "Requirement already satisfied, skipping upgrade: requests_toolbelt>=0.8.0 in c:\\users\\sillians\\appdata\\local\\packages\\pythonsoftwarefoundation.python.3.7_qbz5n2kfra8p0\\localcache\\local-packages\\python37\\site-packages (from kfp) (0.8.0)\n",
      "Requirement already satisfied, skipping upgrade: cloudpickle in c:\\users\\sillians\\appdata\\local\\packages\\pythonsoftwarefoundation.python.3.7_qbz5n2kfra8p0\\localcache\\local-packages\\python37\\site-packages (from kfp) (1.6.0)\n",
      "Requirement already satisfied, skipping upgrade: kfp-server-api<2.0.0,>=0.2.5 in c:\\users\\sillians\\appdata\\local\\packages\\pythonsoftwarefoundation.python.3.7_qbz5n2kfra8p0\\localcache\\local-packages\\python37\\site-packages (from kfp) (1.0.3)\n",
      "Requirement already satisfied, skipping upgrade: jsonschema>=3.0.1 in c:\\users\\sillians\\appdata\\local\\packages\\pythonsoftwarefoundation.python.3.7_qbz5n2kfra8p0\\localcache\\local-packages\\python37\\site-packages (from kfp) (3.2.0)\n",
      "Requirement already satisfied, skipping upgrade: tabulate in c:\\users\\sillians\\appdata\\local\\packages\\pythonsoftwarefoundation.python.3.7_qbz5n2kfra8p0\\localcache\\local-packages\\python37\\site-packages (from kfp) (0.8.7)\n",
      "Requirement already satisfied, skipping upgrade: click in c:\\users\\sillians\\appdata\\local\\packages\\pythonsoftwarefoundation.python.3.7_qbz5n2kfra8p0\\localcache\\local-packages\\python37\\site-packages (from kfp) (7.1.2)\n",
      "Requirement already satisfied, skipping upgrade: Deprecated in c:\\users\\sillians\\appdata\\local\\packages\\pythonsoftwarefoundation.python.3.7_qbz5n2kfra8p0\\localcache\\local-packages\\python37\\site-packages (from kfp) (1.2.10)\n",
      "Requirement already satisfied, skipping upgrade: strip-hints in c:\\users\\sillians\\appdata\\local\\packages\\pythonsoftwarefoundation.python.3.7_qbz5n2kfra8p0\\localcache\\local-packages\\python37\\site-packages (from kfp) (0.1.9)\n",
      "Requirement already satisfied, skipping upgrade: google-api-core<2.0.0dev,>=0.1.1 in c:\\users\\sillians\\appdata\\local\\packages\\pythonsoftwarefoundation.python.3.7_qbz5n2kfra8p0\\localcache\\local-packages\\python37\\site-packages (from google-cloud-storage>=1.13.0->kfp) (1.22.4)\n",
      "Requirement already satisfied, skipping upgrade: google-resumable-media>=0.3.1 in c:\\users\\sillians\\appdata\\local\\packages\\pythonsoftwarefoundation.python.3.7_qbz5n2kfra8p0\\localcache\\local-packages\\python37\\site-packages (from google-cloud-storage>=1.13.0->kfp) (1.1.0)\n",
      "Requirement already satisfied, skipping upgrade: google-cloud-core<0.29dev,>=0.28.0 in c:\\users\\sillians\\appdata\\local\\packages\\pythonsoftwarefoundation.python.3.7_qbz5n2kfra8p0\\localcache\\local-packages\\python37\\site-packages (from google-cloud-storage>=1.13.0->kfp) (0.28.1)\n",
      "Requirement already satisfied, skipping upgrade: requests-oauthlib in c:\\users\\sillians\\appdata\\local\\packages\\pythonsoftwarefoundation.python.3.7_qbz5n2kfra8p0\\localcache\\local-packages\\python37\\site-packages (from kubernetes<12.0.0,>=8.0.0->kfp) (1.3.0)\n",
      "Requirement already satisfied, skipping upgrade: setuptools>=21.0.0 in c:\\program files\\windowsapps\\pythonsoftwarefoundation.python.3.7_3.7.2544.0_x64__qbz5n2kfra8p0\\lib\\site-packages (from kubernetes<12.0.0,>=8.0.0->kfp) (47.1.0)\n",
      "Requirement already satisfied, skipping upgrade: six>=1.9.0 in c:\\users\\sillians\\appdata\\local\\packages\\pythonsoftwarefoundation.python.3.7_qbz5n2kfra8p0\\localcache\\local-packages\\python37\\site-packages (from kubernetes<12.0.0,>=8.0.0->kfp) (1.13.0)\n",
      "Requirement already satisfied, skipping upgrade: adal>=1.0.2 in c:\\users\\sillians\\appdata\\local\\packages\\pythonsoftwarefoundation.python.3.7_qbz5n2kfra8p0\\localcache\\local-packages\\python37\\site-packages (from kubernetes<12.0.0,>=8.0.0->kfp) (1.2.4)\n",
      "Requirement already satisfied, skipping upgrade: python-dateutil>=2.5.3 in c:\\users\\sillians\\appdata\\local\\packages\\pythonsoftwarefoundation.python.3.7_qbz5n2kfra8p0\\localcache\\local-packages\\python37\\site-packages (from kubernetes<12.0.0,>=8.0.0->kfp) (2.8.1)\n",
      "Requirement already satisfied, skipping upgrade: certifi>=14.05.14 in c:\\users\\sillians\\appdata\\local\\packages\\pythonsoftwarefoundation.python.3.7_qbz5n2kfra8p0\\localcache\\local-packages\\python37\\site-packages (from kubernetes<12.0.0,>=8.0.0->kfp) (2019.11.28)\n",
      "Requirement already satisfied, skipping upgrade: urllib3!=1.21,>=1.19.1 in c:\\users\\sillians\\appdata\\local\\packages\\pythonsoftwarefoundation.python.3.7_qbz5n2kfra8p0\\localcache\\local-packages\\python37\\site-packages (from kubernetes<12.0.0,>=8.0.0->kfp) (1.25.7)\n",
      "Requirement already satisfied, skipping upgrade: requests in c:\\users\\sillians\\appdata\\local\\packages\\pythonsoftwarefoundation.python.3.7_qbz5n2kfra8p0\\localcache\\local-packages\\python37\\site-packages (from kubernetes<12.0.0,>=8.0.0->kfp) (2.22.0)\n",
      "Requirement already satisfied, skipping upgrade: websocket-client!=0.40.0,!=0.41.*,!=0.42.*,>=0.32.0 in c:\\users\\sillians\\appdata\\local\\packages\\pythonsoftwarefoundation.python.3.7_qbz5n2kfra8p0\\localcache\\local-packages\\python37\\site-packages (from kubernetes<12.0.0,>=8.0.0->kfp) (0.57.0)\n",
      "Requirement already satisfied, skipping upgrade: cachetools>=2.0.0 in c:\\users\\sillians\\appdata\\local\\packages\\pythonsoftwarefoundation.python.3.7_qbz5n2kfra8p0\\localcache\\local-packages\\python37\\site-packages (from google-auth>=1.6.1->kfp) (4.1.1)\n",
      "Requirement already satisfied, skipping upgrade: rsa>=3.1.4 in c:\\users\\sillians\\appdata\\local\\packages\\pythonsoftwarefoundation.python.3.7_qbz5n2kfra8p0\\localcache\\local-packages\\python37\\site-packages (from google-auth>=1.6.1->kfp) (4.6)\n",
      "Requirement already satisfied, skipping upgrade: pyasn1-modules>=0.2.1 in c:\\users\\sillians\\appdata\\local\\packages\\pythonsoftwarefoundation.python.3.7_qbz5n2kfra8p0\\localcache\\local-packages\\python37\\site-packages (from google-auth>=1.6.1->kfp) (0.2.8)\n",
      "Requirement already satisfied, skipping upgrade: pyrsistent>=0.14.0 in c:\\users\\sillians\\appdata\\local\\packages\\pythonsoftwarefoundation.python.3.7_qbz5n2kfra8p0\\localcache\\local-packages\\python37\\site-packages (from jsonschema>=3.0.1->kfp) (0.16.0)\n",
      "Requirement already satisfied, skipping upgrade: importlib-metadata; python_version < \"3.8\" in c:\\users\\sillians\\appdata\\local\\packages\\pythonsoftwarefoundation.python.3.7_qbz5n2kfra8p0\\localcache\\local-packages\\python37\\site-packages (from jsonschema>=3.0.1->kfp) (1.6.0)\n",
      "Requirement already satisfied, skipping upgrade: attrs>=17.4.0 in c:\\users\\sillians\\appdata\\local\\packages\\pythonsoftwarefoundation.python.3.7_qbz5n2kfra8p0\\localcache\\local-packages\\python37\\site-packages (from jsonschema>=3.0.1->kfp) (19.3.0)\n",
      "Requirement already satisfied, skipping upgrade: wrapt<2,>=1.10 in c:\\users\\sillians\\appdata\\local\\packages\\pythonsoftwarefoundation.python.3.7_qbz5n2kfra8p0\\localcache\\local-packages\\python37\\site-packages (from Deprecated->kfp) (1.12.1)\n",
      "Requirement already satisfied, skipping upgrade: wheel in c:\\users\\sillians\\appdata\\local\\packages\\pythonsoftwarefoundation.python.3.7_qbz5n2kfra8p0\\localcache\\local-packages\\python37\\site-packages (from strip-hints->kfp) (0.33.6)\n",
      "Requirement already satisfied, skipping upgrade: pytz in c:\\users\\sillians\\appdata\\local\\packages\\pythonsoftwarefoundation.python.3.7_qbz5n2kfra8p0\\localcache\\local-packages\\python37\\site-packages (from google-api-core<2.0.0dev,>=0.1.1->google-cloud-storage>=1.13.0->kfp) (2019.3)\n",
      "Requirement already satisfied, skipping upgrade: googleapis-common-protos<2.0dev,>=1.6.0 in c:\\users\\sillians\\appdata\\local\\packages\\pythonsoftwarefoundation.python.3.7_qbz5n2kfra8p0\\localcache\\local-packages\\python37\\site-packages (from google-api-core<2.0.0dev,>=0.1.1->google-cloud-storage>=1.13.0->kfp) (1.52.0)\n",
      "Requirement already satisfied, skipping upgrade: protobuf>=3.12.0 in c:\\users\\sillians\\appdata\\local\\packages\\pythonsoftwarefoundation.python.3.7_qbz5n2kfra8p0\\localcache\\local-packages\\python37\\site-packages (from google-api-core<2.0.0dev,>=0.1.1->google-cloud-storage>=1.13.0->kfp) (3.13.0)\n",
      "Requirement already satisfied, skipping upgrade: google-crc32c<2.0dev,>=1.0; python_version >= \"3.5\" in c:\\users\\sillians\\appdata\\local\\packages\\pythonsoftwarefoundation.python.3.7_qbz5n2kfra8p0\\localcache\\local-packages\\python37\\site-packages (from google-resumable-media>=0.3.1->google-cloud-storage>=1.13.0->kfp) (1.0.0)\n",
      "Requirement already satisfied, skipping upgrade: oauthlib>=3.0.0 in c:\\users\\sillians\\appdata\\local\\packages\\pythonsoftwarefoundation.python.3.7_qbz5n2kfra8p0\\localcache\\local-packages\\python37\\site-packages (from requests-oauthlib->kubernetes<12.0.0,>=8.0.0->kfp) (3.1.0)\n",
      "Requirement already satisfied, skipping upgrade: PyJWT>=1.0.0 in c:\\users\\sillians\\appdata\\local\\packages\\pythonsoftwarefoundation.python.3.7_qbz5n2kfra8p0\\localcache\\local-packages\\python37\\site-packages (from adal>=1.0.2->kubernetes<12.0.0,>=8.0.0->kfp) (1.6.4)\n",
      "Requirement already satisfied, skipping upgrade: cryptography>=1.1.0 in c:\\users\\sillians\\appdata\\local\\packages\\pythonsoftwarefoundation.python.3.7_qbz5n2kfra8p0\\localcache\\local-packages\\python37\\site-packages (from adal>=1.0.2->kubernetes<12.0.0,>=8.0.0->kfp) (2.4.2)\n",
      "Requirement already satisfied, skipping upgrade: chardet<3.1.0,>=3.0.2 in c:\\users\\sillians\\appdata\\local\\packages\\pythonsoftwarefoundation.python.3.7_qbz5n2kfra8p0\\localcache\\local-packages\\python37\\site-packages (from requests->kubernetes<12.0.0,>=8.0.0->kfp) (3.0.4)\n",
      "Requirement already satisfied, skipping upgrade: idna<2.9,>=2.5 in c:\\users\\sillians\\appdata\\local\\packages\\pythonsoftwarefoundation.python.3.7_qbz5n2kfra8p0\\localcache\\local-packages\\python37\\site-packages (from requests->kubernetes<12.0.0,>=8.0.0->kfp) (2.8)\n",
      "Requirement already satisfied, skipping upgrade: pyasn1>=0.1.3 in c:\\users\\sillians\\appdata\\local\\packages\\pythonsoftwarefoundation.python.3.7_qbz5n2kfra8p0\\localcache\\local-packages\\python37\\site-packages (from rsa>=3.1.4->google-auth>=1.6.1->kfp) (0.4.8)\n",
      "Requirement already satisfied, skipping upgrade: zipp>=0.5 in c:\\users\\sillians\\appdata\\local\\packages\\pythonsoftwarefoundation.python.3.7_qbz5n2kfra8p0\\localcache\\local-packages\\python37\\site-packages (from importlib-metadata; python_version < \"3.8\"->jsonschema>=3.0.1->kfp) (3.1.0)\n",
      "Requirement already satisfied, skipping upgrade: cffi>=1.0.0 in c:\\users\\sillians\\appdata\\local\\packages\\pythonsoftwarefoundation.python.3.7_qbz5n2kfra8p0\\localcache\\local-packages\\python37\\site-packages (from google-crc32c<2.0dev,>=1.0; python_version >= \"3.5\"->google-resumable-media>=0.3.1->google-cloud-storage>=1.13.0->kfp) (1.14.3)\n",
      "Requirement already satisfied, skipping upgrade: asn1crypto>=0.21.0 in c:\\users\\sillians\\appdata\\local\\packages\\pythonsoftwarefoundation.python.3.7_qbz5n2kfra8p0\\localcache\\local-packages\\python37\\site-packages (from cryptography>=1.1.0->adal>=1.0.2->kubernetes<12.0.0,>=8.0.0->kfp) (1.4.0)\n",
      "Requirement already satisfied, skipping upgrade: pycparser in c:\\users\\sillians\\appdata\\local\\packages\\pythonsoftwarefoundation.python.3.7_qbz5n2kfra8p0\\localcache\\local-packages\\python37\\site-packages (from cffi>=1.0.0->google-crc32c<2.0dev,>=1.0; python_version >= \"3.5\"->google-resumable-media>=0.3.1->google-cloud-storage>=1.13.0->kfp) (2.20)\n",
      "Building wheels for collected packages: kfp\n",
      "  Building wheel for kfp (setup.py): started\n",
      "  Building wheel for kfp (setup.py): finished with status 'done'\n",
      "  Created wheel for kfp: filename=kfp-1.0.4-py3-none-any.whl size=159880 sha256=10dbc6320fb8b16aa760bf8a88aec7e0553026bc6b9a7324f04ca17483afb381\n",
      "  Stored in directory: c:\\users\\sillians\\appdata\\local\\pip\\cache\\wheels\\65\\1c\\be\\3d7366d2288bf1587e4fe6cd0c1ebdce5e3bada21b70a29e66\n",
      "Successfully built kfp\n",
      "Installing collected packages: kfp\n",
      "  Attempting uninstall: kfp\n",
      "    Found existing installation: kfp 1.0.3\n",
      "    Uninstalling kfp-1.0.3:\n",
      "      Successfully uninstalled kfp-1.0.3\n",
      "Successfully installed kfp-1.0.4\n"
     ]
    },
    {
     "name": "stderr",
     "output_type": "stream",
     "text": [
      "  WARNING: The scripts dsl-compile.exe and kfp.exe are installed in 'C:\\Users\\Sillians\\AppData\\Local\\Packages\\PythonSoftwareFoundation.Python.3.7_qbz5n2kfra8p0\\LocalCache\\local-packages\\Python37\\Scripts' which is not on PATH.\n",
      "  Consider adding this directory to PATH or, if you prefer to suppress this warning, use --no-warn-script-location.\n"
     ]
    },
    {
     "name": "stdout",
     "output_type": "stream",
     "text": [
      "Requirement already up-to-date: kfp in c:\\users\\sillians\\appdata\\local\\packages\\pythonsoftwarefoundation.python.3.7_qbz5n2kfra8p0\\localcache\\local-packages\\python37\\site-packages (1.0.4)\n",
      "Requirement already satisfied, skipping upgrade: PyYAML in c:\\users\\sillians\\appdata\\local\\packages\\pythonsoftwarefoundation.python.3.7_qbz5n2kfra8p0\\localcache\\local-packages\\python37\\site-packages (from kfp) (5.3.1)\n",
      "Requirement already satisfied, skipping upgrade: kfp-server-api<2.0.0,>=0.2.5 in c:\\users\\sillians\\appdata\\local\\packages\\pythonsoftwarefoundation.python.3.7_qbz5n2kfra8p0\\localcache\\local-packages\\python37\\site-packages (from kfp) (1.0.3)\n",
      "Requirement already satisfied, skipping upgrade: kubernetes<12.0.0,>=8.0.0 in c:\\users\\sillians\\appdata\\local\\packages\\pythonsoftwarefoundation.python.3.7_qbz5n2kfra8p0\\localcache\\local-packages\\python37\\site-packages (from kfp) (8.0.0)\n",
      "Requirement already satisfied, skipping upgrade: Deprecated in c:\\users\\sillians\\appdata\\local\\packages\\pythonsoftwarefoundation.python.3.7_qbz5n2kfra8p0\\localcache\\local-packages\\python37\\site-packages (from kfp) (1.2.10)\n",
      "Requirement already satisfied, skipping upgrade: click in c:\\users\\sillians\\appdata\\local\\packages\\pythonsoftwarefoundation.python.3.7_qbz5n2kfra8p0\\localcache\\local-packages\\python37\\site-packages (from kfp) (7.1.2)\n",
      "Requirement already satisfied, skipping upgrade: google-cloud-storage>=1.13.0 in c:\\users\\sillians\\appdata\\local\\packages\\pythonsoftwarefoundation.python.3.7_qbz5n2kfra8p0\\localcache\\local-packages\\python37\\site-packages (from kfp) (1.13.0)\n",
      "Requirement already satisfied, skipping upgrade: cloudpickle in c:\\users\\sillians\\appdata\\local\\packages\\pythonsoftwarefoundation.python.3.7_qbz5n2kfra8p0\\localcache\\local-packages\\python37\\site-packages (from kfp) (1.6.0)\n",
      "Requirement already satisfied, skipping upgrade: jsonschema>=3.0.1 in c:\\users\\sillians\\appdata\\local\\packages\\pythonsoftwarefoundation.python.3.7_qbz5n2kfra8p0\\localcache\\local-packages\\python37\\site-packages (from kfp) (3.2.0)\n",
      "Requirement already satisfied, skipping upgrade: google-auth>=1.6.1 in c:\\users\\sillians\\appdata\\local\\packages\\pythonsoftwarefoundation.python.3.7_qbz5n2kfra8p0\\localcache\\local-packages\\python37\\site-packages (from kfp) (1.6.1)\n",
      "Requirement already satisfied, skipping upgrade: tabulate in c:\\users\\sillians\\appdata\\local\\packages\\pythonsoftwarefoundation.python.3.7_qbz5n2kfra8p0\\localcache\\local-packages\\python37\\site-packages (from kfp) (0.8.7)\n",
      "Requirement already satisfied, skipping upgrade: requests-toolbelt>=0.8.0 in c:\\users\\sillians\\appdata\\local\\packages\\pythonsoftwarefoundation.python.3.7_qbz5n2kfra8p0\\localcache\\local-packages\\python37\\site-packages (from kfp) (0.8.0)\n",
      "Requirement already satisfied, skipping upgrade: strip-hints in c:\\users\\sillians\\appdata\\local\\packages\\pythonsoftwarefoundation.python.3.7_qbz5n2kfra8p0\\localcache\\local-packages\\python37\\site-packages (from kfp) (0.1.9)\n",
      "Requirement already satisfied, skipping upgrade: certifi in c:\\users\\sillians\\appdata\\local\\packages\\pythonsoftwarefoundation.python.3.7_qbz5n2kfra8p0\\localcache\\local-packages\\python37\\site-packages (from kfp-server-api<2.0.0,>=0.2.5->kfp) (2019.11.28)\n",
      "Requirement already satisfied, skipping upgrade: six>=1.10 in c:\\users\\sillians\\appdata\\local\\packages\\pythonsoftwarefoundation.python.3.7_qbz5n2kfra8p0\\localcache\\local-packages\\python37\\site-packages (from kfp-server-api<2.0.0,>=0.2.5->kfp) (1.13.0)\n",
      "Requirement already satisfied, skipping upgrade: python-dateutil in c:\\users\\sillians\\appdata\\local\\packages\\pythonsoftwarefoundation.python.3.7_qbz5n2kfra8p0\\localcache\\local-packages\\python37\\site-packages (from kfp-server-api<2.0.0,>=0.2.5->kfp) (2.8.1)\n",
      "Requirement already satisfied, skipping upgrade: urllib3>=1.15 in c:\\users\\sillians\\appdata\\local\\packages\\pythonsoftwarefoundation.python.3.7_qbz5n2kfra8p0\\localcache\\local-packages\\python37\\site-packages (from kfp-server-api<2.0.0,>=0.2.5->kfp) (1.25.7)\n",
      "Requirement already satisfied, skipping upgrade: adal>=1.0.2 in c:\\users\\sillians\\appdata\\local\\packages\\pythonsoftwarefoundation.python.3.7_qbz5n2kfra8p0\\localcache\\local-packages\\python37\\site-packages (from kubernetes<12.0.0,>=8.0.0->kfp) (1.2.4)\n",
      "Requirement already satisfied, skipping upgrade: requests-oauthlib in c:\\users\\sillians\\appdata\\local\\packages\\pythonsoftwarefoundation.python.3.7_qbz5n2kfra8p0\\localcache\\local-packages\\python37\\site-packages (from kubernetes<12.0.0,>=8.0.0->kfp) (1.3.0)\n",
      "Requirement already satisfied, skipping upgrade: requests in c:\\users\\sillians\\appdata\\local\\packages\\pythonsoftwarefoundation.python.3.7_qbz5n2kfra8p0\\localcache\\local-packages\\python37\\site-packages (from kubernetes<12.0.0,>=8.0.0->kfp) (2.22.0)\n",
      "Requirement already satisfied, skipping upgrade: setuptools>=21.0.0 in c:\\program files\\windowsapps\\pythonsoftwarefoundation.python.3.7_3.7.2544.0_x64__qbz5n2kfra8p0\\lib\\site-packages (from kubernetes<12.0.0,>=8.0.0->kfp) (47.1.0)\n",
      "Requirement already satisfied, skipping upgrade: websocket-client!=0.40.0,!=0.41.*,!=0.42.*,>=0.32.0 in c:\\users\\sillians\\appdata\\local\\packages\\pythonsoftwarefoundation.python.3.7_qbz5n2kfra8p0\\localcache\\local-packages\\python37\\site-packages (from kubernetes<12.0.0,>=8.0.0->kfp) (0.57.0)\n",
      "Requirement already satisfied, skipping upgrade: wrapt<2,>=1.10 in c:\\users\\sillians\\appdata\\local\\packages\\pythonsoftwarefoundation.python.3.7_qbz5n2kfra8p0\\localcache\\local-packages\\python37\\site-packages (from Deprecated->kfp) (1.12.1)\n",
      "Requirement already satisfied, skipping upgrade: google-resumable-media>=0.3.1 in c:\\users\\sillians\\appdata\\local\\packages\\pythonsoftwarefoundation.python.3.7_qbz5n2kfra8p0\\localcache\\local-packages\\python37\\site-packages (from google-cloud-storage>=1.13.0->kfp) (1.1.0)\n",
      "Requirement already satisfied, skipping upgrade: google-api-core<2.0.0dev,>=0.1.1 in c:\\users\\sillians\\appdata\\local\\packages\\pythonsoftwarefoundation.python.3.7_qbz5n2kfra8p0\\localcache\\local-packages\\python37\\site-packages (from google-cloud-storage>=1.13.0->kfp) (1.22.4)\n",
      "Requirement already satisfied, skipping upgrade: google-cloud-core<0.29dev,>=0.28.0 in c:\\users\\sillians\\appdata\\local\\packages\\pythonsoftwarefoundation.python.3.7_qbz5n2kfra8p0\\localcache\\local-packages\\python37\\site-packages (from google-cloud-storage>=1.13.0->kfp) (0.28.1)\n",
      "Requirement already satisfied, skipping upgrade: attrs>=17.4.0 in c:\\users\\sillians\\appdata\\local\\packages\\pythonsoftwarefoundation.python.3.7_qbz5n2kfra8p0\\localcache\\local-packages\\python37\\site-packages (from jsonschema>=3.0.1->kfp) (19.3.0)\n",
      "Requirement already satisfied, skipping upgrade: importlib-metadata; python_version < \"3.8\" in c:\\users\\sillians\\appdata\\local\\packages\\pythonsoftwarefoundation.python.3.7_qbz5n2kfra8p0\\localcache\\local-packages\\python37\\site-packages (from jsonschema>=3.0.1->kfp) (1.6.0)\n",
      "Requirement already satisfied, skipping upgrade: pyrsistent>=0.14.0 in c:\\users\\sillians\\appdata\\local\\packages\\pythonsoftwarefoundation.python.3.7_qbz5n2kfra8p0\\localcache\\local-packages\\python37\\site-packages (from jsonschema>=3.0.1->kfp) (0.16.0)\n",
      "Requirement already satisfied, skipping upgrade: pyasn1-modules>=0.2.1 in c:\\users\\sillians\\appdata\\local\\packages\\pythonsoftwarefoundation.python.3.7_qbz5n2kfra8p0\\localcache\\local-packages\\python37\\site-packages (from google-auth>=1.6.1->kfp) (0.2.8)\n",
      "Requirement already satisfied, skipping upgrade: rsa>=3.1.4 in c:\\users\\sillians\\appdata\\local\\packages\\pythonsoftwarefoundation.python.3.7_qbz5n2kfra8p0\\localcache\\local-packages\\python37\\site-packages (from google-auth>=1.6.1->kfp) (4.6)\n",
      "Requirement already satisfied, skipping upgrade: cachetools>=2.0.0 in c:\\users\\sillians\\appdata\\local\\packages\\pythonsoftwarefoundation.python.3.7_qbz5n2kfra8p0\\localcache\\local-packages\\python37\\site-packages (from google-auth>=1.6.1->kfp) (4.1.1)\n",
      "Requirement already satisfied, skipping upgrade: wheel in c:\\users\\sillians\\appdata\\local\\packages\\pythonsoftwarefoundation.python.3.7_qbz5n2kfra8p0\\localcache\\local-packages\\python37\\site-packages (from strip-hints->kfp) (0.33.6)\n",
      "Requirement already satisfied, skipping upgrade: PyJWT>=1.0.0 in c:\\users\\sillians\\appdata\\local\\packages\\pythonsoftwarefoundation.python.3.7_qbz5n2kfra8p0\\localcache\\local-packages\\python37\\site-packages (from adal>=1.0.2->kubernetes<12.0.0,>=8.0.0->kfp) (1.6.4)\n",
      "Requirement already satisfied, skipping upgrade: cryptography>=1.1.0 in c:\\users\\sillians\\appdata\\local\\packages\\pythonsoftwarefoundation.python.3.7_qbz5n2kfra8p0\\localcache\\local-packages\\python37\\site-packages (from adal>=1.0.2->kubernetes<12.0.0,>=8.0.0->kfp) (2.4.2)\n",
      "Requirement already satisfied, skipping upgrade: oauthlib>=3.0.0 in c:\\users\\sillians\\appdata\\local\\packages\\pythonsoftwarefoundation.python.3.7_qbz5n2kfra8p0\\localcache\\local-packages\\python37\\site-packages (from requests-oauthlib->kubernetes<12.0.0,>=8.0.0->kfp) (3.1.0)\n",
      "Requirement already satisfied, skipping upgrade: chardet<3.1.0,>=3.0.2 in c:\\users\\sillians\\appdata\\local\\packages\\pythonsoftwarefoundation.python.3.7_qbz5n2kfra8p0\\localcache\\local-packages\\python37\\site-packages (from requests->kubernetes<12.0.0,>=8.0.0->kfp) (3.0.4)\n",
      "Requirement already satisfied, skipping upgrade: idna<2.9,>=2.5 in c:\\users\\sillians\\appdata\\local\\packages\\pythonsoftwarefoundation.python.3.7_qbz5n2kfra8p0\\localcache\\local-packages\\python37\\site-packages (from requests->kubernetes<12.0.0,>=8.0.0->kfp) (2.8)\n",
      "Requirement already satisfied, skipping upgrade: google-crc32c<2.0dev,>=1.0; python_version >= \"3.5\" in c:\\users\\sillians\\appdata\\local\\packages\\pythonsoftwarefoundation.python.3.7_qbz5n2kfra8p0\\localcache\\local-packages\\python37\\site-packages (from google-resumable-media>=0.3.1->google-cloud-storage>=1.13.0->kfp) (1.0.0)\n",
      "Requirement already satisfied, skipping upgrade: protobuf>=3.12.0 in c:\\users\\sillians\\appdata\\local\\packages\\pythonsoftwarefoundation.python.3.7_qbz5n2kfra8p0\\localcache\\local-packages\\python37\\site-packages (from google-api-core<2.0.0dev,>=0.1.1->google-cloud-storage>=1.13.0->kfp) (3.13.0)\n",
      "Requirement already satisfied, skipping upgrade: pytz in c:\\users\\sillians\\appdata\\local\\packages\\pythonsoftwarefoundation.python.3.7_qbz5n2kfra8p0\\localcache\\local-packages\\python37\\site-packages (from google-api-core<2.0.0dev,>=0.1.1->google-cloud-storage>=1.13.0->kfp) (2019.3)\n",
      "Requirement already satisfied, skipping upgrade: googleapis-common-protos<2.0dev,>=1.6.0 in c:\\users\\sillians\\appdata\\local\\packages\\pythonsoftwarefoundation.python.3.7_qbz5n2kfra8p0\\localcache\\local-packages\\python37\\site-packages (from google-api-core<2.0.0dev,>=0.1.1->google-cloud-storage>=1.13.0->kfp) (1.52.0)\n",
      "Requirement already satisfied, skipping upgrade: zipp>=0.5 in c:\\users\\sillians\\appdata\\local\\packages\\pythonsoftwarefoundation.python.3.7_qbz5n2kfra8p0\\localcache\\local-packages\\python37\\site-packages (from importlib-metadata; python_version < \"3.8\"->jsonschema>=3.0.1->kfp) (3.1.0)\n",
      "Requirement already satisfied, skipping upgrade: pyasn1<0.5.0,>=0.4.6 in c:\\users\\sillians\\appdata\\local\\packages\\pythonsoftwarefoundation.python.3.7_qbz5n2kfra8p0\\localcache\\local-packages\\python37\\site-packages (from pyasn1-modules>=0.2.1->google-auth>=1.6.1->kfp) (0.4.8)\n",
      "Requirement already satisfied, skipping upgrade: asn1crypto>=0.21.0 in c:\\users\\sillians\\appdata\\local\\packages\\pythonsoftwarefoundation.python.3.7_qbz5n2kfra8p0\\localcache\\local-packages\\python37\\site-packages (from cryptography>=1.1.0->adal>=1.0.2->kubernetes<12.0.0,>=8.0.0->kfp) (1.4.0)\n",
      "Requirement already satisfied, skipping upgrade: cffi!=1.11.3,>=1.7 in c:\\users\\sillians\\appdata\\local\\packages\\pythonsoftwarefoundation.python.3.7_qbz5n2kfra8p0\\localcache\\local-packages\\python37\\site-packages (from cryptography>=1.1.0->adal>=1.0.2->kubernetes<12.0.0,>=8.0.0->kfp) (1.14.3)\n",
      "Requirement already satisfied, skipping upgrade: pycparser in c:\\users\\sillians\\appdata\\local\\packages\\pythonsoftwarefoundation.python.3.7_qbz5n2kfra8p0\\localcache\\local-packages\\python37\\site-packages (from cffi!=1.11.3,>=1.7->cryptography>=1.1.0->adal>=1.0.2->kubernetes<12.0.0,>=8.0.0->kfp) (2.20)\n"
     ]
    },
    {
     "name": "stdout",
     "output_type": "stream",
     "text": [
      "Processing c:\\users\\sillians\\appdata\\local\\pip\\cache\\wheels\\65\\1c\\be\\3d7366d2288bf1587e4fe6cd0c1ebdce5e3bada21b70a29e66\\kfp-1.0.4-py3-none-any.whl\n",
      "Requirement already satisfied, skipping upgrade: kfp-server-api<2.0.0,>=0.2.5 in c:\\users\\sillians\\anaconda3\\lib\\site-packages (from kfp) (1.0.3)\n",
      "Requirement already satisfied, skipping upgrade: Deprecated in c:\\users\\sillians\\anaconda3\\lib\\site-packages (from kfp) (1.2.10)\n",
      "Requirement already satisfied, skipping upgrade: jsonschema>=3.0.1 in c:\\users\\sillians\\anaconda3\\lib\\site-packages (from kfp) (3.0.1)\n",
      "Requirement already satisfied, skipping upgrade: strip-hints in c:\\users\\sillians\\anaconda3\\lib\\site-packages (from kfp) (0.1.9)\n",
      "Requirement already satisfied, skipping upgrade: cloudpickle in c:\\users\\sillians\\anaconda3\\lib\\site-packages (from kfp) (0.8.0)\n",
      "Requirement already satisfied, skipping upgrade: google-auth>=1.6.1 in c:\\users\\sillians\\anaconda3\\lib\\site-packages (from kfp) (1.22.1)\n",
      "Requirement already satisfied, skipping upgrade: tabulate in c:\\users\\sillians\\anaconda3\\lib\\site-packages (from kfp) (0.8.7)\n",
      "Requirement already satisfied, skipping upgrade: click in c:\\users\\sillians\\anaconda3\\lib\\site-packages (from kfp) (7.0)\n",
      "Requirement already satisfied, skipping upgrade: requests-toolbelt>=0.8.0 in c:\\users\\sillians\\anaconda3\\lib\\site-packages (from kfp) (0.9.1)\n",
      "Requirement already satisfied, skipping upgrade: PyYAML in c:\\users\\sillians\\anaconda3\\lib\\site-packages (from kfp) (5.1)\n",
      "Requirement already satisfied, skipping upgrade: google-cloud-storage>=1.13.0 in c:\\users\\sillians\\anaconda3\\lib\\site-packages (from kfp) (1.31.2)\n",
      "Requirement already satisfied, skipping upgrade: kubernetes<12.0.0,>=8.0.0 in c:\\users\\sillians\\anaconda3\\lib\\site-packages (from kfp) (11.0.0)\n",
      "Requirement already satisfied, skipping upgrade: python-dateutil in c:\\users\\sillians\\anaconda3\\lib\\site-packages (from kfp-server-api<2.0.0,>=0.2.5->kfp) (2.8.0)\n",
      "Requirement already satisfied, skipping upgrade: six>=1.10 in c:\\users\\sillians\\anaconda3\\lib\\site-packages (from kfp-server-api<2.0.0,>=0.2.5->kfp) (1.12.0)\n",
      "Requirement already satisfied, skipping upgrade: certifi in c:\\users\\sillians\\anaconda3\\lib\\site-packages (from kfp-server-api<2.0.0,>=0.2.5->kfp) (2019.11.28)\n",
      "Requirement already satisfied, skipping upgrade: urllib3>=1.15 in c:\\users\\sillians\\anaconda3\\lib\\site-packages (from kfp-server-api<2.0.0,>=0.2.5->kfp) (1.25.10)\n",
      "Requirement already satisfied, skipping upgrade: wrapt<2,>=1.10 in c:\\users\\sillians\\anaconda3\\lib\\site-packages (from Deprecated->kfp) (1.11.1)\n",
      "Requirement already satisfied, skipping upgrade: attrs>=17.4.0 in c:\\users\\sillians\\anaconda3\\lib\\site-packages (from jsonschema>=3.0.1->kfp) (19.1.0)\n",
      "Requirement already satisfied, skipping upgrade: pyrsistent>=0.14.0 in c:\\users\\sillians\\anaconda3\\lib\\site-packages (from jsonschema>=3.0.1->kfp) (0.14.11)\n",
      "Requirement already satisfied, skipping upgrade: setuptools in c:\\users\\sillians\\anaconda3\\lib\\site-packages (from jsonschema>=3.0.1->kfp) (41.2.0)\n",
      "Requirement already satisfied, skipping upgrade: wheel in c:\\users\\sillians\\anaconda3\\lib\\site-packages (from strip-hints->kfp) (0.33.1)\n",
      "Requirement already satisfied, skipping upgrade: pyasn1-modules>=0.2.1 in c:\\users\\sillians\\anaconda3\\lib\\site-packages (from google-auth>=1.6.1->kfp) (0.2.8)\n",
      "Requirement already satisfied, skipping upgrade: cachetools<5.0,>=2.0.0 in c:\\users\\sillians\\anaconda3\\lib\\site-packages (from google-auth>=1.6.1->kfp) (4.1.1)\n",
      "Requirement already satisfied, skipping upgrade: rsa<5,>=3.1.4; python_version >= \"3.5\" in c:\\users\\sillians\\anaconda3\\lib\\site-packages (from google-auth>=1.6.1->kfp) (4.6)\n",
      "Requirement already satisfied, skipping upgrade: requests<3.0.0,>=2.0.1 in c:\\users\\sillians\\anaconda3\\lib\\site-packages (from requests-toolbelt>=0.8.0->kfp) (2.22.0)\n",
      "Requirement already satisfied, skipping upgrade: google-resumable-media<2.0dev,>=1.0.0 in c:\\users\\sillians\\anaconda3\\lib\\site-packages (from google-cloud-storage>=1.13.0->kfp) (1.1.0)\n",
      "Requirement already satisfied, skipping upgrade: google-cloud-core<2.0dev,>=1.4.1 in c:\\users\\sillians\\anaconda3\\lib\\site-packages (from google-cloud-storage>=1.13.0->kfp) (1.4.3)\n",
      "Requirement already satisfied, skipping upgrade: requests-oauthlib in c:\\users\\sillians\\anaconda3\\lib\\site-packages (from kubernetes<12.0.0,>=8.0.0->kfp) (1.3.0)\n",
      "Requirement already satisfied, skipping upgrade: websocket-client!=0.40.0,!=0.41.*,!=0.42.*,>=0.32.0 in c:\\users\\sillians\\anaconda3\\lib\\site-packages (from kubernetes<12.0.0,>=8.0.0->kfp) (0.48.0)\n",
      "Requirement already satisfied, skipping upgrade: pyasn1<0.5.0,>=0.4.6 in c:\\users\\sillians\\anaconda3\\lib\\site-packages (from pyasn1-modules>=0.2.1->google-auth>=1.6.1->kfp) (0.4.8)\n",
      "Requirement already satisfied, skipping upgrade: chardet<3.1.0,>=3.0.2 in c:\\users\\sillians\\anaconda3\\lib\\site-packages (from requests<3.0.0,>=2.0.1->requests-toolbelt>=0.8.0->kfp) (3.0.4)\n",
      "Requirement already satisfied, skipping upgrade: idna<2.9,>=2.5 in c:\\users\\sillians\\anaconda3\\lib\\site-packages (from requests<3.0.0,>=2.0.1->requests-toolbelt>=0.8.0->kfp) (2.8)\n",
      "Requirement already satisfied, skipping upgrade: google-crc32c<2.0dev,>=1.0; python_version >= \"3.5\" in c:\\users\\sillians\\anaconda3\\lib\\site-packages (from google-resumable-media<2.0dev,>=1.0.0->google-cloud-storage>=1.13.0->kfp) (1.0.0)\n",
      "Requirement already satisfied, skipping upgrade: google-api-core<2.0.0dev,>=1.19.0 in c:\\users\\sillians\\anaconda3\\lib\\site-packages (from google-cloud-core<2.0dev,>=1.4.1->google-cloud-storage>=1.13.0->kfp) (1.22.4)\n",
      "Requirement already satisfied, skipping upgrade: oauthlib>=3.0.0 in c:\\users\\sillians\\anaconda3\\lib\\site-packages (from requests-oauthlib->kubernetes<12.0.0,>=8.0.0->kfp) (3.1.0)\n",
      "Requirement already satisfied, skipping upgrade: cffi>=1.0.0 in c:\\users\\sillians\\anaconda3\\lib\\site-packages (from google-crc32c<2.0dev,>=1.0; python_version >= \"3.5\"->google-resumable-media<2.0dev,>=1.0.0->google-cloud-storage>=1.13.0->kfp) (1.12.2)\n",
      "Requirement already satisfied, skipping upgrade: googleapis-common-protos<2.0dev,>=1.6.0 in c:\\users\\sillians\\anaconda3\\lib\\site-packages (from google-api-core<2.0.0dev,>=1.19.0->google-cloud-core<2.0dev,>=1.4.1->google-cloud-storage>=1.13.0->kfp) (1.52.0)\n",
      "Requirement already satisfied, skipping upgrade: pytz in c:\\users\\sillians\\anaconda3\\lib\\site-packages (from google-api-core<2.0.0dev,>=1.19.0->google-cloud-core<2.0dev,>=1.4.1->google-cloud-storage>=1.13.0->kfp) (2018.9)\n",
      "Requirement already satisfied, skipping upgrade: protobuf>=3.12.0 in c:\\users\\sillians\\anaconda3\\lib\\site-packages (from google-api-core<2.0.0dev,>=1.19.0->google-cloud-core<2.0dev,>=1.4.1->google-cloud-storage>=1.13.0->kfp) (3.13.0)\n",
      "Requirement already satisfied, skipping upgrade: pycparser in c:\\users\\sillians\\anaconda3\\lib\\site-packages (from cffi>=1.0.0->google-crc32c<2.0dev,>=1.0; python_version >= \"3.5\"->google-resumable-media<2.0dev,>=1.0.0->google-cloud-storage>=1.13.0->kfp) (2.19)\n",
      "Installing collected packages: kfp\n",
      "  Attempting uninstall: kfp\n",
      "    Found existing installation: kfp 1.0.3\n",
      "    Uninstalling kfp-1.0.3:\n",
      "      Successfully uninstalled kfp-1.0.3\n",
      "Successfully installed kfp-1.0.4\n"
     ]
    },
    {
     "name": "stderr",
     "output_type": "stream",
     "text": [
      "WARNING: pip is being invoked by an old script wrapper. This will fail in a future version of pip.\n",
      "Please see https://github.com/pypa/pip/issues/5599 for advice on fixing the underlying issue.\n",
      "To avoid this problem you can invoke Python with '-m pip' instead of running pip directly.\n"
     ]
    }
   ],
   "source": [
    "# You may need to restart your notebook kernel after updating the kfp sdk\n",
    "!pip3 install kfp --upgrade\n",
    "!pip3 install kfp --upgrade --user\n",
    "!pip install -U kfp"
   ]
  },
  {
   "cell_type": "markdown",
   "metadata": {},
   "source": [
    "`Restart the kernel before you proceed`"
   ]
  },
  {
   "cell_type": "code",
   "execution_count": 4,
   "metadata": {},
   "outputs": [
    {
     "data": {
      "text/plain": [
       "{'status': 'ok', 'restart': True}"
      ]
     },
     "execution_count": 4,
     "metadata": {},
     "output_type": "execute_result"
    }
   ],
   "source": [
    "# Restart kernel after the pip install\n",
    "import IPython\n",
    "\n",
    "IPython.Application.instance().kernel.do_shutdown(True)"
   ]
  },
  {
   "cell_type": "markdown",
   "metadata": {},
   "source": [
    "`Check if the install was successful:`"
   ]
  },
  {
   "cell_type": "code",
   "execution_count": 5,
   "metadata": {},
   "outputs": [
    {
     "name": "stderr",
     "output_type": "stream",
     "text": [
      "'which' is not recognized as an internal or external command,\n",
      "operable program or batch file.\n"
     ]
    }
   ],
   "source": [
    "!which dsl-compile"
   ]
  },
  {
   "cell_type": "markdown",
   "metadata": {},
   "source": [
    "## Setup"
   ]
  },
  {
   "cell_type": "code",
   "execution_count": 6,
   "metadata": {},
   "outputs": [],
   "source": [
    "EXPERIMENT_NAME = 'University Admission notebook pipeline'        # Name of the experiment in the UI\n",
    "BASE_IMAGE = \"tensorflow/tensorflow:latest-gpu-py3\"    # Base image used for components in the pipeline"
   ]
  },
  {
   "cell_type": "markdown",
   "metadata": {},
   "source": [
    "### Build the Components"
   ]
  },
  {
   "cell_type": "code",
   "execution_count": 7,
   "metadata": {},
   "outputs": [],
   "source": [
    "# Import Kubeflow SDK\n",
    "import kfp # the Pipelines SDK. \n",
    "from kfp import compiler\n",
    "import kfp.dsl as dsl\n",
    "import kfp.gcp as gcp\n",
    "import kfp.components as comp\n",
    "import os\n",
    "import subprocess\n",
    "import json\n",
    "\n",
    "from kfp.dsl.types import Integer, GCSPath, String\n",
    "import kfp.notebook"
   ]
  },
  {
   "cell_type": "code",
   "execution_count": 8,
   "metadata": {},
   "outputs": [],
   "source": [
    "# where the outputs are stored\n",
    "out_dir = \"/home/jovyan/01-University-Admissions/data/out/\""
   ]
  },
  {
   "cell_type": "markdown",
   "metadata": {},
   "source": [
    "# Create a pipeline Function"
   ]
  },
  {
   "cell_type": "markdown",
   "metadata": {},
   "source": [
    "## Preprocessing Function"
   ]
  },
  {
   "cell_type": "code",
   "execution_count": 10,
   "metadata": {},
   "outputs": [
    {
     "name": "stderr",
     "output_type": "stream",
     "text": [
      "C:\\Users\\Sillians\\Anaconda3\\lib\\site-packages\\ipykernel_launcher.py:4: DeprecationWarning: Call to deprecated function (or staticmethod) python_component. (This decorator does not seem to be used, so we deprecate it. If you need this decorator, please create an issue at https://github.com/kubeflow/pipelines/issues) -- Deprecated since version 0.2.6.\n",
      "  after removing the cwd from sys.path.\n"
     ]
    }
   ],
   "source": [
    "@dsl.python_component(\n",
    "    name='preprocess_op',\n",
    "    description='preprocessing function for University admission',\n",
    "    base_image=BASE_IMAGE  # you can define the base image here, or when you build in the next step. \n",
    ")\n",
    "\n",
    "def preprocess(data_path):\n",
    "    import numpy as np\n",
    "    import pandas as pd\n",
    "    import pickle\n",
    "    import statsmodels.api as sm\n",
    "    import pylab\n",
    "    from scipy.stats import kstest, boxcox\n",
    "    from scipy.special import inv_boxcox\n",
    "    import sys, subprocess;\n",
    "    subprocess.run([sys.executable, '-m', 'pip', 'install', 'pandas==0.23.4'])\n",
    "    subprocess.run([sys.executable, '-m', 'pip', 'install', 'scikit-learn==0.22'])\n",
    "    \n",
    "    # Get data\n",
    "    DATA_PATH = \"https://raw.githubusercontent.com/HamoyeHQ/01-University-Admissions/master/data/\"\n",
    "\n",
    "    def load_admission_data(admission_path=DATA_PATH):\n",
    "        csv_path = os.path.join(admission_path, \"Admission_Predict_Ver1.1.csv\")\n",
    "        return pd.read_csv(csv_path)\n",
    "    \n",
    "    # load data from function\n",
    "    data = load_admission_data()\n",
    "    \n",
    "    \n",
    "    # Splitting into train and test\n",
    "    # Use the first 400 dataset for training and validation\n",
    "    train = data.iloc[:400, :]\n",
    "    # Use the last 100 dataset for testing and evaluation\n",
    "    test = data.iloc[400:, :]\n",
    "\n",
    "\n",
    "    # Splitting into features and Targets\n",
    "    X = train.drop(['Chance of Admit '], axis=1)\n",
    "    y = train['Chance of Admit ']\n",
    "\n",
    "    # Selecting only numeric features to test for normality\n",
    "    num_df = train.drop(['University Rating', 'Research', 'Chance of Admit '], axis=1)\n",
    "    \n",
    "    # check for normality using QQ-Plot\n",
    "    for cols in num_df.columns:\n",
    "        print(f'Q-Q Plot for {cols}')\n",
    "        sm.qqplot(num_df[cols], line='s')\n",
    "        pylab.show()\n",
    "    \n",
    "    # #Kolmogorov Smirnov Test for Normality\n",
    "    feature_list = list(num_df.columns)\n",
    "    for feature in feature_list:\n",
    "        output = kstest(num_df[feature], 'norm', N=100)\n",
    "        print(f'Kolmogorov Test for {feature} = {output}')\n",
    "\n",
    "    #output file to path\n",
    "    # NPZ is a file format by numpy that provides storage of array data using gzip compression. \n",
    "    # This imageio plugin supports data of any shape, and also supports multiple images per file.\n",
    "    np.savez_compressed(f'{data_path}/preprocessed-data.npz', \n",
    "                       train=train,\n",
    "                       test=test,\n",
    "                       X=X,\n",
    "                       y=y)\n",
    "    print(\"Preprocessing Done\")"
   ]
  },
  {
   "cell_type": "markdown",
   "metadata": {},
   "source": [
    "## Transformation Function\n",
    "\n",
    "### Transform the data for training"
   ]
  },
  {
   "cell_type": "code",
   "execution_count": 11,
   "metadata": {},
   "outputs": [
    {
     "name": "stderr",
     "output_type": "stream",
     "text": [
      "C:\\Users\\Sillians\\Anaconda3\\lib\\site-packages\\ipykernel_launcher.py:4: DeprecationWarning: Call to deprecated function (or staticmethod) python_component. (This decorator does not seem to be used, so we deprecate it. If you need this decorator, please create an issue at https://github.com/kubeflow/pipelines/issues) -- Deprecated since version 0.2.6.\n",
      "  after removing the cwd from sys.path.\n"
     ]
    }
   ],
   "source": [
    "@dsl.python_component(\n",
    "    name='transform_op',\n",
    "    description='transformation pipeline function for University admission',\n",
    "    base_image=BASE_IMAGE  # you can define the base image here, or when you build in the next step. \n",
    ")\n",
    "\n",
    "def transform(data_path, pipeline_file):\n",
    "    \n",
    "    # Install all the dependencies inside the function\n",
    "    import numpy as np\n",
    "    import pandas as pd\n",
    "    import pickle\n",
    "    import sys, subprocess;\n",
    "    subprocess.run([sys.executable, '-m', 'pip', 'install', 'pandas==0.23.4'])\n",
    "    subprocess.run([sys.executable, '-m', 'pip', 'install', 'scikit-learn==0.22'])\n",
    "    import statsmodels.api as sm\n",
    "    import pylab\n",
    "    from scipy.stats import kstest, boxcox\n",
    "    from scipy.special import inv_boxcox\n",
    "    from sklearn.preprocessing import PowerTransformer, OneHotEncoder, FunctionTransformer\n",
    "    from sklearn.pipeline import Pipeline, make_pipeline\n",
    "    from sklearn.impute import SimpleImputer\n",
    "    from sklearn.compose import ColumnTransformer, TransformedTargetRegressor, make_column_transformer\n",
    "    from sklearn.base import TransformerMixin, BaseEstimator\n",
    "    from mlxtend.feature_selection import ColumnSelector\n",
    "    from sklearn.metrics import mean_squared_error\n",
    "    from sklearn.linear_model import BayesianRidge\n",
    "    \n",
    "    # A Box Cox transformation is a transformation of a non-normal dependent variables into a normal shape. \n",
    "    # Normality is an important assumption for many statistical techniques; \n",
    "    # if your data isn’t normal, applying a Box-Cox means that you are able to run a broader number of tests.\n",
    "    \n",
    "    #load the preprocessed data\n",
    "    preprocessed_data = np.load(f'{data_path}/preprocessed-data.npz')\n",
    "    train = preprocessed_data['train']\n",
    "    test = preprocessed_data['test']\n",
    "    X = preprocessed_data['X']\n",
    "    y = preprocessed_data['y']\n",
    "\n",
    "    # Function for transforming target variable\n",
    "    def func(target):\n",
    "        print('Target Transform Called')\n",
    "        target_ = target.copy()\n",
    "       # print(target.shape)\n",
    "        target_ = target_.flatten()\n",
    "       # print(target_.shape)\n",
    "        target_ = boxcox(target_, lmbda=1.6132074271235903)\n",
    "        tar = target_.reshape(-1,1)\n",
    "        return tar\n",
    "\n",
    "    # Function for reversing the transform performed on the target vatiable\n",
    "    # Read more on how to implement invboxcox (https://stackoverflow.com/questions/26391454/reverse-box-cox-transformation)\n",
    "    def invboxcox(target):\n",
    "        print('Inverse Target Transform Called')\n",
    "        ld = 1.6132074271235903\n",
    "        return(np.exp(np.log(ld*target+1)/ld))\n",
    "    \n",
    "    \n",
    "    # Custom transformer for changing data type of some features in the pipeline\n",
    "    class Typ_conv(BaseEstimator, TransformerMixin):\n",
    "\n",
    "        def fit(self, X, y=None, **fit_params):\n",
    "            return self\n",
    "    \n",
    "        def transform(self, X):\n",
    "            cols = ['University Rating', 'Research']\n",
    "            for col in cols:\n",
    "                X[col] = X[col].astype('object')\n",
    "            V = pd.DataFrame(X)\n",
    "#             V.head(3)\n",
    "            return X.values\n",
    "        \n",
    "    # Creating transformer for numeric features\n",
    "    numeric_transformer = Pipeline(steps=[\n",
    "        ('imputer', SimpleImputer(strategy='median')),\n",
    "        ('power_transform', PowerTransformer(method='box-cox'))])\n",
    "\n",
    "    # Creating transformer for categorical features\n",
    "    categorical_transformer = Pipeline(steps=[\n",
    "        ('imputer', SimpleImputer(strategy='constant', fill_value='missing')),\n",
    "        ('onehot', OneHotEncoder(handle_unknown='ignore'))])\n",
    "\n",
    "    # This selector allows the pipeliine select only specified features \n",
    "    selector = make_pipeline(ColumnSelector(cols=([1,2,3,4,5,6,7])))\n",
    "    \n",
    "    # Indices of Numeric Features\n",
    "    # Exclude the feature 'Serial No'\n",
    "    numeric_features = [0,1,3,4,5]\n",
    "    # Indices of Categorical Features\n",
    "    categorical_features = [2,6]\n",
    "    # Creating custom transformer for numerical and categorical features\n",
    "    preprocessor = ColumnTransformer(transformers=[('num', numeric_transformer, numeric_features),\n",
    "                                               ('cat', categorical_transformer, categorical_features)])\n",
    "    \n",
    "   # Combining all transformers into a single pipeline\n",
    "    pipe = Pipeline(steps=[('tconv', Typ_conv()), \n",
    "                           ('select', selector), \n",
    "                           ('preprocessor', preprocessor), \n",
    "                           ('reg', BayesianRidge())])\n",
    "    \n",
    "    #Save the func function to the designated \n",
    "    with open(f'{data_path}/{pipeline_file}', 'wb') as func_file:\n",
    "        pickle.dump(func, func_file)\n",
    "    \n",
    "    \n",
    "    #Save the invboxcox function to the designated \n",
    "    with open(f'{data_path}/{pipeline_file}', 'wb') as invbox_file:\n",
    "        pickle.dump(invboxcox, invbox_file)\n",
    "    \n",
    "    \n",
    "     #Save the pipeline to the designated \n",
    "    with open(f'{data_path}/{pipeline_file}', 'wb') as file:\n",
    "        pickle.dump(pipe, file)\n",
    "        \n",
    "    print(\"Data transformed\")"
   ]
  },
  {
   "cell_type": "markdown",
   "metadata": {},
   "source": [
    "## Training Function \n",
    "\n",
    "### Training the data with the BayesianRidge Regressor"
   ]
  },
  {
   "cell_type": "code",
   "execution_count": 12,
   "metadata": {},
   "outputs": [
    {
     "name": "stderr",
     "output_type": "stream",
     "text": [
      "C:\\Users\\Sillians\\Anaconda3\\lib\\site-packages\\ipykernel_launcher.py:4: DeprecationWarning: Call to deprecated function (or staticmethod) python_component. (This decorator does not seem to be used, so we deprecate it. If you need this decorator, please create an issue at https://github.com/kubeflow/pipelines/issues) -- Deprecated since version 0.2.6.\n",
      "  after removing the cwd from sys.path.\n"
     ]
    }
   ],
   "source": [
    "@dsl.python_component(\n",
    "    name='train_op',\n",
    "    description='training pipeline function for Graduate admission',\n",
    "    base_image=BASE_IMAGE  # you can define the base image here, or when you build in the next step. \n",
    ")\n",
    "\n",
    "def train(data_path, model_file):\n",
    "    \n",
    "    # Install all the dependencies inside the function\n",
    "    import numpy as np\n",
    "    import pandas as pd\n",
    "    import pickle\n",
    "    import sys, subprocess;\n",
    "    subprocess.run([sys.executable, '-m', 'pip', 'install', 'pandas==0.23.4'])\n",
    "    subprocess.run([sys.executable, '-m', 'pip', 'install', 'scikit-learn==0.22'])\n",
    "    import statsmodels.api as sm\n",
    "    import pylab\n",
    "    from scipy.stats import kstest, boxcox\n",
    "    from scipy.special import inv_boxcox\n",
    "    from sklearn.preprocessing import PowerTransformer, OneHotEncoder, FunctionTransformer\n",
    "    from sklearn.pipeline import Pipeline, make_pipeline\n",
    "    from sklearn.impute import SimpleImputer\n",
    "    from sklearn.compose import ColumnTransformer, TransformedTargetRegressor, make_column_transformer\n",
    "    from sklearn.base import TransformerMixin, BaseEstimator\n",
    "    from mlxtend.feature_selection import ColumnSelector\n",
    "    from sklearn.metrics import mean_squared_error\n",
    "    from sklearn.linear_model import BayesianRidge\n",
    "    \n",
    "    \n",
    "    #load the preprocessed data\n",
    "    preprocessed_data = np.load(f'{data_path}/preprocessed-data.npz')\n",
    "    train = preprocessed_data['train']\n",
    "    test = preprocessed_data['test']\n",
    "    X = preprocessed_data['X']\n",
    "    y = preprocessed_data['y']\n",
    "    \n",
    "    \n",
    "    # Load the saved pipe file\n",
    "    with open(f'{data_path}/{pipeline_file}', 'rb') as file:\n",
    "        pipe = pickle.load(file)\n",
    "        \n",
    "    # Load the saved func function\n",
    "    with open(f'{data_path}/{pipeline_file}', 'rb') as func_file:\n",
    "        func = pickle.load(func_file)\n",
    "        \n",
    "    # Load the saved invboxcox function\n",
    "    with open(f'{data_path}/{pipeline_file}', 'rb') as invbox_file:\n",
    "        invboxcox = pickle.load(invbox_file)\n",
    "\n",
    "    # We use Transformed Target Regressor because we are performing some transformation on the target variable\n",
    "    model = TransformedTargetRegressor(regressor=pipe,func=func,inverse_func=invboxcox)\n",
    "    \n",
    "    # Fit model to X and y\n",
    "    model.fit(X, y)\n",
    "    \n",
    "    #Save the model to the designated \n",
    "    with open(f'{data_path}/{model_file}', 'wb') as file:\n",
    "        pickle.dump(model, file)\n",
    "        \n",
    "    print(\"Model Trained\")"
   ]
  },
  {
   "cell_type": "markdown",
   "metadata": {},
   "source": [
    "## Prediction function\n",
    "\n",
    "### Make prediction on the held-out dataset"
   ]
  },
  {
   "cell_type": "code",
   "execution_count": 13,
   "metadata": {},
   "outputs": [
    {
     "name": "stderr",
     "output_type": "stream",
     "text": [
      "C:\\Users\\Sillians\\Anaconda3\\lib\\site-packages\\ipykernel_launcher.py:4: DeprecationWarning: Call to deprecated function (or staticmethod) python_component. (This decorator does not seem to be used, so we deprecate it. If you need this decorator, please create an issue at https://github.com/kubeflow/pipelines/issues) -- Deprecated since version 0.2.6.\n",
      "  after removing the cwd from sys.path.\n"
     ]
    }
   ],
   "source": [
    "@dsl.python_component(\n",
    "    name='predict_op',\n",
    "    description='prediction pipeline function for Graduate admission',\n",
    "    base_image=BASE_IMAGE  # you can define the base image here, or when you build in the next step. \n",
    ")\n",
    "\n",
    "def predict(data_path, predict_file):\n",
    "    \n",
    "    import pickle     # python object for (de)serialization\n",
    "    import pandas as pd\n",
    "    import numpy as np\n",
    "    # Evaluation metrics\n",
    "    from sklearn.metrics import mean_squared_error\n",
    "    from sklearn.metrics import mean_absolute_error\n",
    "\n",
    "    # Load the saved BayesianRidge Regressor model\n",
    "    with open(f'{data_path}/{model_file}', 'rb') as file:\n",
    "        model = pickle.load(file)\n",
    "    \n",
    "            \n",
    "\n",
    "\n",
    "    #load the preprocessed data\n",
    "    preprocessed_data = np.load(f'{data_path}/preprocessed-data.npz')\n",
    "    train = preprocessed_data['train']\n",
    "    test = preprocessed_data['test']\n",
    "    X = preprocessed_data['X']\n",
    "    y = preprocessed_data['y']\n",
    "        \n",
    "        \n",
    "    # Normally, new/test data does not contain the target variable, \n",
    "    # so we drop it from the test in order to use the trained model on it\n",
    "    x_test = test.drop(['Chance of Admit '], axis=1)\n",
    "        \n",
    "    # make prediction on test data\n",
    "    prediction = model.predict(x_test)\n",
    "        \n",
    "    #Save the prediction to the designated \n",
    "    with open(f'{data_path}/{predict_file}', 'wb') as file:\n",
    "        pickle.dump(prediction, file)\n",
    "        \n",
    "    print(\"Prediction has be saved successfully!\")"
   ]
  },
  {
   "cell_type": "markdown",
   "metadata": {},
   "source": [
    "## Prediction Classifier\n",
    "\n",
    "### Make prediction on Students Data"
   ]
  },
  {
   "cell_type": "code",
   "execution_count": null,
   "metadata": {},
   "outputs": [],
   "source": [
    "@dsl.python_component(\n",
    "    name='predict_classifier_op',\n",
    "    description='prediction pipeline function for Graduate admission',\n",
    "    base_image=BASE_IMAGE  # you can define the base image here, or when you build in the next step. \n",
    ")\n",
    "\n",
    "\n",
    "def predict_classifier(data_path, predict_class_file):\n",
    "    \n",
    "    import pickle     # python object for (de)serialization\n",
    "    import pandas as pd\n",
    "    import numpy as np\n",
    "    # Evaluation metrics\n",
    "    from sklearn.metrics import mean_squared_error\n",
    "    from sklearn.metrics import mean_absolute_error\n",
    "    \n",
    "        \n",
    "    # Load the saved BayesianRidge Regressor model\n",
    "    with open(f'{data_path}/{predict_file}', 'rb') as file:\n",
    "        prediction = pickle.load(file)   \n",
    "        \n",
    "    ## checking rmse between target variable in main scale\n",
    "#     main_test_rmse = np.sqrt(mean_squared_error(test['Chance of Admit '], prediction))\n",
    "#     print(f'Final RMSE value on test data = {main_test_rmse}')\n",
    "        \n",
    "        \n",
    "    final_pred = pd.DataFrame(prediction,columns = [\"predictions\"], index = None)\n",
    "        \n",
    "    # We create a classifier for the predicted values\n",
    "    # create a threshold >= 0.70\n",
    "    final_pred['result'] = np.where(final_pred['predictions'] >= 0.70, 'You have a high chance of getting admitted', \n",
    "                                        'Your chances of getting admitted is quite low')\n",
    "    return final_pred\n",
    "\n",
    "    \n",
    "    \n",
    "    with open(f'{data_path}/prediction_result.txt', 'w') as result:\n",
    "        result.write(\" Prediction: {}, Actual: {} \".format(prediction, test['Chance of Admit ']))\n",
    "    \n",
    "    print('Prediction Classifier saved successfully!')"
   ]
  },
  {
   "cell_type": "markdown",
   "metadata": {},
   "source": [
    "# Build a pipeline component from the function\n",
    "\n",
    "#### Convert the function to a pipeline operation."
   ]
  },
  {
   "cell_type": "code",
   "execution_count": null,
   "metadata": {},
   "outputs": [],
   "source": [
    "# Create preproces lightweight components.\n",
    "preprocess_op = comp.func_to_container_op(preprocess, base_image=BASE_IMAGE)\n",
    "\n",
    "# Create transform lightweight components.\n",
    "transform_op = comp.func_to_container_op(transform, base_image=BASE_IMAGE)\n",
    "\n",
    "# Create training lightweight components.\n",
    "train_op = comp.func_to_container_op(train, base_image=BASE_IMAGE)\n",
    "\n",
    "# Create prrdiction lightweight components.\n",
    "predict_op = comp.func_to_container_op(predict, base_image=BASE_IMAGE)\n",
    "\n",
    "# Create predict_classifier lightweight components.\n",
    "predict_classifier_op = comp.func_to_container_op(predict_classifier, base_image=BASE_IMAGE)"
   ]
  },
  {
   "cell_type": "markdown",
   "metadata": {},
   "source": [
    "# Build Kubeflow Pipeline"
   ]
  },
  {
   "cell_type": "code",
   "execution_count": null,
   "metadata": {},
   "outputs": [],
   "source": [
    "#Create a client to enable communication with the Pipelines API server.\n",
    "client = kfp.Client()"
   ]
  },
  {
   "cell_type": "code",
   "execution_count": null,
   "metadata": {},
   "outputs": [],
   "source": [
    "# domain-specific language \n",
    "@dsl.pipeline(\n",
    "    name='University Admission',\n",
    "    description='End-to-end training to predict the likelihood of admission of a new candidate.'\n",
    ")\n",
    "\n",
    "# Define parameters to be fed into pipeline\n",
    "def graduate_admission_container_pipeline(\n",
    "    data_path: str,\n",
    "    pipeline_file: str,\n",
    "    model_file: str,\n",
    "    predict_file: str,\n",
    "    predict_class_file: str\n",
    "    \n",
    "):\n",
    "    \n",
    "    # Define volume to share data between components.\n",
    "    vop = dsl.VolumeOp(\n",
    "    name=\"volume_creation\",\n",
    "    resource_name=\"data-volume\", \n",
    "    size=\"1Gi\", \n",
    "    modes=dsl.VOLUME_MODE_RWO)\n",
    "    \n",
    "    # Create graduate admission preprocessing component\n",
    "    admission_preprocessing_container = preprocess_op(data_path).add_pvolumes({data_path: vop.volume})\n",
    "    \n",
    "    # Create graduate admission transform component\n",
    "    admission_transformation_container = transform_op(data_path, pipeline_file) \\\n",
    "                                        .add_pvolumes({data_path: admission_preprocessing_container.pvolume})\n",
    "    \n",
    "    # Create graduate admission training component\n",
    "    admission_training_container = train_op(data_path, model_file) \\\n",
    "                                    .add_pvolumes({data_path: admission_transformation_container.pvolume})\n",
    "    \n",
    "    # Create graduate admission prediction component\n",
    "    admission_prediction_container = predict_op(data_path, predict_file) \\ \n",
    "                                    .add_pvolumes({data_path: admission_training_container.pvolume})\n",
    "    \n",
    "    # Create graduate admission prediction classification component\n",
    "    admission_prediction_classifier_container = predict_classifier_op(data_path, predict_class_file) \\\n",
    "                                                .add_pvolumes({data_path: admission_prediction_container.pvolume})\n",
    "    \n",
    "    \n",
    "    # Print the result of the prediction\n",
    "    Graduate_admission_result_container = dsl.ContainerOp(\n",
    "        name=\"Admission prediction\",\n",
    "        image='library/bash:4.4.23',\n",
    "        pvolumes={data_path: admission_prediction_classifier_container.pvolume},\n",
    "        arguments=['head', f'{data_path}/prediction_result.txt']\n",
    "    )"
   ]
  },
  {
   "cell_type": "markdown",
   "metadata": {},
   "source": [
    "## Compile and run the pipeline\n",
    "\n",
    "- Kubeflow Pipelines lets you group pipeline runs by Experiments. You can create a new experiment, or call `kfp.Client().list_experiments()` to see existing ones. If you don't specify the experiment name, the Default experiment will be used."
   ]
  },
  {
   "cell_type": "code",
   "execution_count": null,
   "metadata": {},
   "outputs": [],
   "source": [
    "DATA_PATH = '/mnt'\n",
    "MODEL_PATH = 'graduate_admission_predictor.pkl'"
   ]
  },
  {
   "cell_type": "code",
   "execution_count": null,
   "metadata": {},
   "outputs": [],
   "source": [
    "pipeline_func = graduate_admission_container_pipeline"
   ]
  },
  {
   "cell_type": "code",
   "execution_count": null,
   "metadata": {},
   "outputs": [],
   "source": [
    "experiment_name=EXPERIMENT_NAME\n",
    "run_name = pipeline_func.__name__ + ' run'\n",
    "\n",
    "arguments = {\"data_path\":DATA_PATH,\n",
    "             \"model_file\":MODEL_PATH}\n",
    "\n",
    "# Compile pipeline to generate compressed YAML definition of the pipeline.\n",
    "kfp.compiler.Compiler().compile(pipeline_func,'{}.zip'.format(experiment_name))\n",
    "\n",
    "# Submit pipeline directly from pipeline function\n",
    "run_result = client.create_run_from_pipeline_func(pipeline_func, \n",
    "                                                  experiment_name=experiment_name, \n",
    "                                                  run_name=run_name, \n",
    "                                                  arguments=arguments)"
   ]
  },
  {
   "cell_type": "code",
   "execution_count": null,
   "metadata": {},
   "outputs": [],
   "source": []
  }
 ],
 "metadata": {
  "kernelspec": {
   "display_name": "Python 3",
   "language": "python",
   "name": "python3"
  },
  "language_info": {
   "codemirror_mode": {
    "name": "ipython",
    "version": 3
   },
   "file_extension": ".py",
   "mimetype": "text/x-python",
   "name": "python",
   "nbconvert_exporter": "python",
   "pygments_lexer": "ipython3",
   "version": "3.7.3"
  }
 },
 "nbformat": 4,
 "nbformat_minor": 2
}
