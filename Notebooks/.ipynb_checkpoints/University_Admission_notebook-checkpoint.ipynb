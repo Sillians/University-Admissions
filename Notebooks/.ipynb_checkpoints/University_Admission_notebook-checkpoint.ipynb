{
 "cells": [
  {
   "cell_type": "markdown",
   "metadata": {},
   "source": [
    "## Objective\n",
    "\n",
    "\n",
    "### Predicting-University-Admissions\n",
    "\n",
    "Using the supplied predictive variables (GRE score, TOEFL score, University Rating, etc) to predict the likelihood of admission of a new candidate.\n",
    "\n",
    "### Evaluation Criteria\n",
    "\n",
    "The best model should be the one that evaluates to have the lowest RMSE overall, and please indicate the error you get on validation set containing the last 100 observations.\n",
    "\n",
    "### Expected Submission\n",
    "\n",
    "Please submit a Kernel where the final cell outputs the RMSE score on the final 100 observations."
   ]
  },
  {
   "cell_type": "markdown",
   "metadata": {},
   "source": [
    "### Dataset\n",
    "\n",
    "The dataset contains several arguments(basically the inputs you need to provide) which are considered for the application for Masters Programs. The parameters included are :\n",
    "\n",
    "- `GRE Scores` ( out of 340 )\n",
    "\n",
    "- `TOEFL Scores` ( out of 120 )\n",
    "\n",
    "- `Under Grad University Rating` ( out of 5 ) \n",
    "\n",
    "- `Statement of Purpose` (out of 5 )\n",
    "\n",
    "- `Letter of Recommendation Strength` ( out of 5 )\n",
    "\n",
    "- `Undergraduate GPA` ( out of 10 ) \n",
    "\n",
    "- `Research Experience` ( either 0 or 1 )\n",
    "\n",
    "- `Chance of Admit` ( ranging from 0 to 1 )"
   ]
  },
  {
   "cell_type": "markdown",
   "metadata": {},
   "source": [
    "# Setup\n",
    "\n",
    "\n",
    "## Importing the necessary libraries"
   ]
  },
  {
   "cell_type": "markdown",
   "metadata": {},
   "source": [
    "First, let's make sure this notebook works well in both `python 2 and 3`, import a few common modules, ensure `MatplotLib plots` figures `inline` and prepare a `function` to save the figures:"
   ]
  },
  {
   "cell_type": "code",
   "execution_count": 1,
   "metadata": {},
   "outputs": [],
   "source": [
    "# To support both python 2 and python 3\n",
    "from __future__ import division, print_function, unicode_literals\n",
    "\n",
    "import pandas as pd  # data processing\n",
    "import numpy as np   # linear algebra\n",
    "import matplotlib.pyplot as plt\n",
    "import seaborn as sns\n",
    "import sys\n",
    "import os\n",
    "\n",
    "# To plot pretty figures\n",
    "%matplotlib inline\n",
    "import matplotlib as mpl\n",
    "mpl.rc('axes', labelsize=14)\n",
    "mpl.rc('xtick', labelsize=12)\n",
    "mpl.rc('ytick', labelsize=12)\n",
    "\n",
    "# Where to save the figures\n",
    "PROJECT_ROOT_DIR = \".\"\n",
    "PROJECT_IMAGE_ID = \"images\"\n",
    "IMAGES_PATH = os.path.join(PROJECT_ROOT_DIR, PROJECT_IMAGE_ID)\n",
    "\n",
    "def save_fig(fig_id, tight_layout=True, fig_extension=\"png\", resolution=300):\n",
    "    path = os.path.join(IMAGES_PATH, fig_id + \".\" + fig_extension)\n",
    "    print(\"Saving figure\", fig_id)\n",
    "    if tight_layout:\n",
    "        plt.tight_layout()\n",
    "    plt.savefig(path, format=fig_extension, dpi=resolution)\n",
    "\n",
    "\n",
    "# sns.set_style('darkgrid')\n",
    "# from matplotlib import pyplot\n",
    "\n",
    "# for advanced visualizations\n",
    "import plotly.offline as py\n",
    "import plotly.graph_objs as go\n",
    "from plotly import tools\n",
    "\n",
    "\n",
    "# Ignore useless warnings (see SciPy issue #5998)\n",
    "import warnings\n",
    "warnings.filterwarnings(action=\"ignore\", message=\"^internal gelsd\")"
   ]
  },
  {
   "cell_type": "code",
   "execution_count": 2,
   "metadata": {},
   "outputs": [
    {
     "name": "stdout",
     "output_type": "stream",
     "text": [
      "Requirement already up-to-date: pip in c:\\users\\sillians\\appdata\\local\\packages\\pythonsoftwarefoundation.python.3.7_qbz5n2kfra8p0\\localcache\\local-packages\\python37\\site-packages (20.2.4)\n"
     ]
    }
   ],
   "source": [
    "!pip3 install --upgrade pip"
   ]
  },
  {
   "cell_type": "markdown",
   "metadata": {},
   "source": [
    "# Get the data\n",
    "\n",
    "### Here is the function to fetch the data:"
   ]
  },
  {
   "cell_type": "code",
   "execution_count": 3,
   "metadata": {},
   "outputs": [],
   "source": [
    "import os\n",
    "# import tarfile\n",
    "from six.moves import urllib\n",
    "#  data/Admission_Predict.csv\n",
    "\n",
    "DOWNLOAD_ROOT = \"https://raw.githubusercontent.com/HamoyeHQ/01-University-Admissions/master/\" \n",
    "DATA_PATH = os.path.join(\"data\")\n",
    "DATA_URL = DOWNLOAD_ROOT + \"data/Admission_Predict_Ver1.1.csv\"\n",
    "\n",
    "def fetch_Admission_data(admission_url=DATA_URL, admission_path=DATA_PATH):\n",
    "    os.makedirs(admission_path, exist_ok=True)\n",
    "    csv_path = os.path.join(admission_path, \"Admission_Predict_Ver1.1.csv\")\n",
    "    urllib.request.urlretrieve(admission_url, csv_path)\n",
    "    admission_csv = pd.read_csv(csv_path)\n",
    "#     admission_csv.extractall(path=admission_path)\n",
    "#     admission_csv.close()"
   ]
  },
  {
   "cell_type": "code",
   "execution_count": 4,
   "metadata": {},
   "outputs": [],
   "source": [
    "fetch_Admission_data()"
   ]
  },
  {
   "cell_type": "code",
   "execution_count": 5,
   "metadata": {},
   "outputs": [],
   "source": [
    "import pandas as pd\n",
    "\n",
    "def load_admission_data(admission_path=DATA_PATH):\n",
    "    csv_path = os.path.join(admission_path, \"Admission_Predict_Ver1.1.csv\")\n",
    "    return pd.read_csv(csv_path)"
   ]
  },
  {
   "cell_type": "markdown",
   "metadata": {},
   "source": [
    "#### Take a Quick Look at the Data Structure\n",
    "Let’s take a look at the top 10 rows using the DataFrame’s `head() method`"
   ]
  },
  {
   "cell_type": "code",
   "execution_count": 6,
   "metadata": {},
   "outputs": [
    {
     "data": {
      "text/html": [
       "<div>\n",
       "<style scoped>\n",
       "    .dataframe tbody tr th:only-of-type {\n",
       "        vertical-align: middle;\n",
       "    }\n",
       "\n",
       "    .dataframe tbody tr th {\n",
       "        vertical-align: top;\n",
       "    }\n",
       "\n",
       "    .dataframe thead th {\n",
       "        text-align: right;\n",
       "    }\n",
       "</style>\n",
       "<table border=\"1\" class=\"dataframe\">\n",
       "  <thead>\n",
       "    <tr style=\"text-align: right;\">\n",
       "      <th></th>\n",
       "      <th>Serial No.</th>\n",
       "      <th>GRE Score</th>\n",
       "      <th>TOEFL Score</th>\n",
       "      <th>University Rating</th>\n",
       "      <th>SOP</th>\n",
       "      <th>LOR</th>\n",
       "      <th>CGPA</th>\n",
       "      <th>Research</th>\n",
       "      <th>Chance of Admit</th>\n",
       "    </tr>\n",
       "  </thead>\n",
       "  <tbody>\n",
       "    <tr>\n",
       "      <th>0</th>\n",
       "      <td>1</td>\n",
       "      <td>337</td>\n",
       "      <td>118</td>\n",
       "      <td>4</td>\n",
       "      <td>4.5</td>\n",
       "      <td>4.5</td>\n",
       "      <td>9.65</td>\n",
       "      <td>1</td>\n",
       "      <td>0.92</td>\n",
       "    </tr>\n",
       "    <tr>\n",
       "      <th>1</th>\n",
       "      <td>2</td>\n",
       "      <td>324</td>\n",
       "      <td>107</td>\n",
       "      <td>4</td>\n",
       "      <td>4.0</td>\n",
       "      <td>4.5</td>\n",
       "      <td>8.87</td>\n",
       "      <td>1</td>\n",
       "      <td>0.76</td>\n",
       "    </tr>\n",
       "    <tr>\n",
       "      <th>2</th>\n",
       "      <td>3</td>\n",
       "      <td>316</td>\n",
       "      <td>104</td>\n",
       "      <td>3</td>\n",
       "      <td>3.0</td>\n",
       "      <td>3.5</td>\n",
       "      <td>8.00</td>\n",
       "      <td>1</td>\n",
       "      <td>0.72</td>\n",
       "    </tr>\n",
       "    <tr>\n",
       "      <th>3</th>\n",
       "      <td>4</td>\n",
       "      <td>322</td>\n",
       "      <td>110</td>\n",
       "      <td>3</td>\n",
       "      <td>3.5</td>\n",
       "      <td>2.5</td>\n",
       "      <td>8.67</td>\n",
       "      <td>1</td>\n",
       "      <td>0.80</td>\n",
       "    </tr>\n",
       "    <tr>\n",
       "      <th>4</th>\n",
       "      <td>5</td>\n",
       "      <td>314</td>\n",
       "      <td>103</td>\n",
       "      <td>2</td>\n",
       "      <td>2.0</td>\n",
       "      <td>3.0</td>\n",
       "      <td>8.21</td>\n",
       "      <td>0</td>\n",
       "      <td>0.65</td>\n",
       "    </tr>\n",
       "    <tr>\n",
       "      <th>5</th>\n",
       "      <td>6</td>\n",
       "      <td>330</td>\n",
       "      <td>115</td>\n",
       "      <td>5</td>\n",
       "      <td>4.5</td>\n",
       "      <td>3.0</td>\n",
       "      <td>9.34</td>\n",
       "      <td>1</td>\n",
       "      <td>0.90</td>\n",
       "    </tr>\n",
       "    <tr>\n",
       "      <th>6</th>\n",
       "      <td>7</td>\n",
       "      <td>321</td>\n",
       "      <td>109</td>\n",
       "      <td>3</td>\n",
       "      <td>3.0</td>\n",
       "      <td>4.0</td>\n",
       "      <td>8.20</td>\n",
       "      <td>1</td>\n",
       "      <td>0.75</td>\n",
       "    </tr>\n",
       "    <tr>\n",
       "      <th>7</th>\n",
       "      <td>8</td>\n",
       "      <td>308</td>\n",
       "      <td>101</td>\n",
       "      <td>2</td>\n",
       "      <td>3.0</td>\n",
       "      <td>4.0</td>\n",
       "      <td>7.90</td>\n",
       "      <td>0</td>\n",
       "      <td>0.68</td>\n",
       "    </tr>\n",
       "    <tr>\n",
       "      <th>8</th>\n",
       "      <td>9</td>\n",
       "      <td>302</td>\n",
       "      <td>102</td>\n",
       "      <td>1</td>\n",
       "      <td>2.0</td>\n",
       "      <td>1.5</td>\n",
       "      <td>8.00</td>\n",
       "      <td>0</td>\n",
       "      <td>0.50</td>\n",
       "    </tr>\n",
       "    <tr>\n",
       "      <th>9</th>\n",
       "      <td>10</td>\n",
       "      <td>323</td>\n",
       "      <td>108</td>\n",
       "      <td>3</td>\n",
       "      <td>3.5</td>\n",
       "      <td>3.0</td>\n",
       "      <td>8.60</td>\n",
       "      <td>0</td>\n",
       "      <td>0.45</td>\n",
       "    </tr>\n",
       "  </tbody>\n",
       "</table>\n",
       "</div>"
      ],
      "text/plain": [
       "   Serial No.  GRE Score  TOEFL Score  University Rating  SOP  LOR   CGPA  \\\n",
       "0           1        337          118                  4  4.5   4.5  9.65   \n",
       "1           2        324          107                  4  4.0   4.5  8.87   \n",
       "2           3        316          104                  3  3.0   3.5  8.00   \n",
       "3           4        322          110                  3  3.5   2.5  8.67   \n",
       "4           5        314          103                  2  2.0   3.0  8.21   \n",
       "5           6        330          115                  5  4.5   3.0  9.34   \n",
       "6           7        321          109                  3  3.0   4.0  8.20   \n",
       "7           8        308          101                  2  3.0   4.0  7.90   \n",
       "8           9        302          102                  1  2.0   1.5  8.00   \n",
       "9          10        323          108                  3  3.5   3.0  8.60   \n",
       "\n",
       "   Research  Chance of Admit   \n",
       "0         1              0.92  \n",
       "1         1              0.76  \n",
       "2         1              0.72  \n",
       "3         1              0.80  \n",
       "4         0              0.65  \n",
       "5         1              0.90  \n",
       "6         1              0.75  \n",
       "7         0              0.68  \n",
       "8         0              0.50  \n",
       "9         0              0.45  "
      ]
     },
     "execution_count": 6,
     "metadata": {},
     "output_type": "execute_result"
    }
   ],
   "source": [
    "data = load_admission_data()\n",
    "data.head(10)"
   ]
  },
  {
   "cell_type": "code",
   "execution_count": 7,
   "metadata": {},
   "outputs": [
    {
     "name": "stdout",
     "output_type": "stream",
     "text": [
      "(400, 9)\n",
      "(100, 9)\n"
     ]
    }
   ],
   "source": [
    "# Splitting into train and test\n",
    "train = data.iloc[:400, :]\n",
    "test = data.iloc[400:, :]\n",
    "print(train.shape)\n",
    "print(test.shape)"
   ]
  },
  {
   "cell_type": "code",
   "execution_count": 8,
   "metadata": {},
   "outputs": [
    {
     "data": {
      "text/html": [
       "<div>\n",
       "<style scoped>\n",
       "    .dataframe tbody tr th:only-of-type {\n",
       "        vertical-align: middle;\n",
       "    }\n",
       "\n",
       "    .dataframe tbody tr th {\n",
       "        vertical-align: top;\n",
       "    }\n",
       "\n",
       "    .dataframe thead th {\n",
       "        text-align: right;\n",
       "    }\n",
       "</style>\n",
       "<table border=\"1\" class=\"dataframe\">\n",
       "  <thead>\n",
       "    <tr style=\"text-align: right;\">\n",
       "      <th></th>\n",
       "      <th>Serial No.</th>\n",
       "      <th>GRE Score</th>\n",
       "      <th>TOEFL Score</th>\n",
       "      <th>University Rating</th>\n",
       "      <th>SOP</th>\n",
       "      <th>LOR</th>\n",
       "      <th>CGPA</th>\n",
       "      <th>Research</th>\n",
       "      <th>Chance of Admit</th>\n",
       "    </tr>\n",
       "  </thead>\n",
       "  <tbody>\n",
       "    <tr>\n",
       "      <th>0</th>\n",
       "      <td>1</td>\n",
       "      <td>337</td>\n",
       "      <td>118</td>\n",
       "      <td>4</td>\n",
       "      <td>4.5</td>\n",
       "      <td>4.5</td>\n",
       "      <td>9.65</td>\n",
       "      <td>1</td>\n",
       "      <td>0.92</td>\n",
       "    </tr>\n",
       "    <tr>\n",
       "      <th>1</th>\n",
       "      <td>2</td>\n",
       "      <td>324</td>\n",
       "      <td>107</td>\n",
       "      <td>4</td>\n",
       "      <td>4.0</td>\n",
       "      <td>4.5</td>\n",
       "      <td>8.87</td>\n",
       "      <td>1</td>\n",
       "      <td>0.76</td>\n",
       "    </tr>\n",
       "    <tr>\n",
       "      <th>2</th>\n",
       "      <td>3</td>\n",
       "      <td>316</td>\n",
       "      <td>104</td>\n",
       "      <td>3</td>\n",
       "      <td>3.0</td>\n",
       "      <td>3.5</td>\n",
       "      <td>8.00</td>\n",
       "      <td>1</td>\n",
       "      <td>0.72</td>\n",
       "    </tr>\n",
       "    <tr>\n",
       "      <th>3</th>\n",
       "      <td>4</td>\n",
       "      <td>322</td>\n",
       "      <td>110</td>\n",
       "      <td>3</td>\n",
       "      <td>3.5</td>\n",
       "      <td>2.5</td>\n",
       "      <td>8.67</td>\n",
       "      <td>1</td>\n",
       "      <td>0.80</td>\n",
       "    </tr>\n",
       "    <tr>\n",
       "      <th>4</th>\n",
       "      <td>5</td>\n",
       "      <td>314</td>\n",
       "      <td>103</td>\n",
       "      <td>2</td>\n",
       "      <td>2.0</td>\n",
       "      <td>3.0</td>\n",
       "      <td>8.21</td>\n",
       "      <td>0</td>\n",
       "      <td>0.65</td>\n",
       "    </tr>\n",
       "  </tbody>\n",
       "</table>\n",
       "</div>"
      ],
      "text/plain": [
       "   Serial No.  GRE Score  TOEFL Score  University Rating  SOP  LOR   CGPA  \\\n",
       "0           1        337          118                  4  4.5   4.5  9.65   \n",
       "1           2        324          107                  4  4.0   4.5  8.87   \n",
       "2           3        316          104                  3  3.0   3.5  8.00   \n",
       "3           4        322          110                  3  3.5   2.5  8.67   \n",
       "4           5        314          103                  2  2.0   3.0  8.21   \n",
       "\n",
       "   Research  Chance of Admit   \n",
       "0         1              0.92  \n",
       "1         1              0.76  \n",
       "2         1              0.72  \n",
       "3         1              0.80  \n",
       "4         0              0.65  "
      ]
     },
     "execution_count": 8,
     "metadata": {},
     "output_type": "execute_result"
    }
   ],
   "source": [
    "train.head()"
   ]
  },
  {
   "cell_type": "code",
   "execution_count": 9,
   "metadata": {},
   "outputs": [
    {
     "data": {
      "text/html": [
       "<div>\n",
       "<style scoped>\n",
       "    .dataframe tbody tr th:only-of-type {\n",
       "        vertical-align: middle;\n",
       "    }\n",
       "\n",
       "    .dataframe tbody tr th {\n",
       "        vertical-align: top;\n",
       "    }\n",
       "\n",
       "    .dataframe thead th {\n",
       "        text-align: right;\n",
       "    }\n",
       "</style>\n",
       "<table border=\"1\" class=\"dataframe\">\n",
       "  <thead>\n",
       "    <tr style=\"text-align: right;\">\n",
       "      <th></th>\n",
       "      <th>Serial No.</th>\n",
       "      <th>GRE Score</th>\n",
       "      <th>TOEFL Score</th>\n",
       "      <th>University Rating</th>\n",
       "      <th>SOP</th>\n",
       "      <th>LOR</th>\n",
       "      <th>CGPA</th>\n",
       "      <th>Research</th>\n",
       "      <th>Chance of Admit</th>\n",
       "    </tr>\n",
       "  </thead>\n",
       "  <tbody>\n",
       "    <tr>\n",
       "      <th>400</th>\n",
       "      <td>401</td>\n",
       "      <td>304</td>\n",
       "      <td>100</td>\n",
       "      <td>2</td>\n",
       "      <td>3.5</td>\n",
       "      <td>3.0</td>\n",
       "      <td>8.22</td>\n",
       "      <td>0</td>\n",
       "      <td>0.63</td>\n",
       "    </tr>\n",
       "    <tr>\n",
       "      <th>401</th>\n",
       "      <td>402</td>\n",
       "      <td>315</td>\n",
       "      <td>105</td>\n",
       "      <td>2</td>\n",
       "      <td>3.0</td>\n",
       "      <td>3.0</td>\n",
       "      <td>8.34</td>\n",
       "      <td>0</td>\n",
       "      <td>0.66</td>\n",
       "    </tr>\n",
       "    <tr>\n",
       "      <th>402</th>\n",
       "      <td>403</td>\n",
       "      <td>324</td>\n",
       "      <td>109</td>\n",
       "      <td>3</td>\n",
       "      <td>3.5</td>\n",
       "      <td>3.0</td>\n",
       "      <td>8.94</td>\n",
       "      <td>1</td>\n",
       "      <td>0.78</td>\n",
       "    </tr>\n",
       "    <tr>\n",
       "      <th>403</th>\n",
       "      <td>404</td>\n",
       "      <td>330</td>\n",
       "      <td>116</td>\n",
       "      <td>4</td>\n",
       "      <td>4.0</td>\n",
       "      <td>3.5</td>\n",
       "      <td>9.23</td>\n",
       "      <td>1</td>\n",
       "      <td>0.91</td>\n",
       "    </tr>\n",
       "    <tr>\n",
       "      <th>404</th>\n",
       "      <td>405</td>\n",
       "      <td>311</td>\n",
       "      <td>101</td>\n",
       "      <td>3</td>\n",
       "      <td>2.0</td>\n",
       "      <td>2.5</td>\n",
       "      <td>7.64</td>\n",
       "      <td>1</td>\n",
       "      <td>0.62</td>\n",
       "    </tr>\n",
       "  </tbody>\n",
       "</table>\n",
       "</div>"
      ],
      "text/plain": [
       "     Serial No.  GRE Score  TOEFL Score  University Rating  SOP  LOR   CGPA  \\\n",
       "400         401        304          100                  2  3.5   3.0  8.22   \n",
       "401         402        315          105                  2  3.0   3.0  8.34   \n",
       "402         403        324          109                  3  3.5   3.0  8.94   \n",
       "403         404        330          116                  4  4.0   3.5  9.23   \n",
       "404         405        311          101                  3  2.0   2.5  7.64   \n",
       "\n",
       "     Research  Chance of Admit   \n",
       "400         0              0.63  \n",
       "401         0              0.66  \n",
       "402         1              0.78  \n",
       "403         1              0.91  \n",
       "404         1              0.62  "
      ]
     },
     "execution_count": 9,
     "metadata": {},
     "output_type": "execute_result"
    }
   ],
   "source": [
    "test.head()"
   ]
  },
  {
   "cell_type": "code",
   "execution_count": 10,
   "metadata": {},
   "outputs": [],
   "source": [
    "# drop the Serial No from the training data\n",
    "train = train.drop(['Serial No.'], axis=1)"
   ]
  },
  {
   "cell_type": "code",
   "execution_count": 11,
   "metadata": {},
   "outputs": [],
   "source": [
    "# drop the Serial No feature from the testing data\n",
    "test = test.drop(['Serial No.'], axis=1)"
   ]
  },
  {
   "cell_type": "code",
   "execution_count": 12,
   "metadata": {},
   "outputs": [
    {
     "data": {
      "text/plain": [
       "Index(['GRE Score', 'TOEFL Score', 'University Rating', 'SOP', 'LOR ', 'CGPA',\n",
       "       'Research', 'Chance of Admit '],\n",
       "      dtype='object')"
      ]
     },
     "execution_count": 12,
     "metadata": {},
     "output_type": "execute_result"
    }
   ],
   "source": [
    "train.columns"
   ]
  },
  {
   "cell_type": "code",
   "execution_count": 13,
   "metadata": {},
   "outputs": [
    {
     "name": "stderr",
     "output_type": "stream",
     "text": [
      "C:\\Users\\Sillians\\Anaconda3\\lib\\site-packages\\statsmodels\\compat\\pandas.py:49: FutureWarning:\n",
      "\n",
      "The Panel class is removed from pandas. Accessing it from the top-level namespace will also be removed in the next version\n",
      "\n"
     ]
    },
    {
     "name": "stdout",
     "output_type": "stream",
     "text": [
      "GRE Score\n",
      "TOEFL Score\n",
      "Statement od Purpose\n",
      "Letter of Recommendation\n",
      "CGPA\n",
      "Chance of Admission\n"
     ]
    },
    {
     "data": {
      "image/png": "[encoded data removed]",
      "text/plain": [
       "<Figure size 432x288 with 1 Axes>"
      ]
     },
     "metadata": {
      "needs_background": "light"
     },
     "output_type": "display_data"
    },
    {
     "data": {
      "image/png": "[encoded data removed]",
      "text/plain": [
       "<Figure size 432x288 with 1 Axes>"
      ]
     },
     "metadata": {
      "needs_background": "light"
     },
     "output_type": "display_data"
    },
    {
     "data": {
      "image/png": "[encoded data removed]",
      "text/plain": [
       "<Figure size 432x288 with 1 Axes>"
      ]
     },
     "metadata": {
      "needs_background": "light"
     },
     "output_type": "display_data"
    },
    {
     "data": {
      "image/png": "[encoded data removed]",
      "text/plain": [
       "<Figure size 432x288 with 1 Axes>"
      ]
     },
     "metadata": {
      "needs_background": "light"
     },
     "output_type": "display_data"
    },
    {
     "data": {
      "image/png": "[encoded data removed]",
      "text/plain": [
       "<Figure size 432x288 with 1 Axes>"
      ]
     },
     "metadata": {
      "needs_background": "light"
     },
     "output_type": "display_data"
    },
    {
     "data": {
      "image/png": "[encoded data removed]",
      "text/plain": [
       "<Figure size 432x288 with 1 Axes>"
      ]
     },
     "metadata": {
      "needs_background": "light"
     },
     "output_type": "display_data"
    }
   ],
   "source": [
    "# showing qqplots for normality\n",
    "import statsmodels.api as sm\n",
    "import pylab\n",
    "print('GRE Score')\n",
    "sm.qqplot(train['GRE Score'], line='s')\n",
    "print('TOEFL Score')\n",
    "sm.qqplot(train['TOEFL Score'], line='s')\n",
    "print('Statement od Purpose')\n",
    "sm.qqplot(train['SOP'], line='s')\n",
    "print('Letter of Recommendation')\n",
    "sm.qqplot(train['LOR '], line='s')\n",
    "print('CGPA')\n",
    "sm.qqplot(train['CGPA'], line='s')\n",
    "print('Chance of Admission')\n",
    "sm.qqplot(train['Chance of Admit '], line='s')\n",
    "pylab.show()"
   ]
  },
  {
   "cell_type": "markdown",
   "metadata": {},
   "source": [
    "### scipy.stats.kstest\n",
    "\n",
    "- Performs the (one sample or two samples) `Kolmogorov-Smirnov` test for goodness of fit.\n",
    "\n",
    "- The one-sample test performs a test of the distribution `F(x)` of an observed random variable against a given distribution `G(x)`. Under the `null hypothesis`, the two distributions are identical, `F(x)=G(x)`. The `alternative hypothesis` can be either ‘two-sided’ (default), ‘less’ or ‘greater’. The KS test is only valid for continuous distributions. The two-sample test tests whether the two independent samples are drawn from the same continuous distribution."
   ]
  },
  {
   "cell_type": "code",
   "execution_count": 14,
   "metadata": {},
   "outputs": [],
   "source": [
    "# feature_list"
   ]
  },
  {
   "cell_type": "code",
   "execution_count": 15,
   "metadata": {},
   "outputs": [
    {
     "name": "stdout",
     "output_type": "stream",
     "text": [
      "Kolmogorov Test for GRE Score = KstestResult(statistic=1.0, pvalue=0.0)\n",
      "Kolmogorov Test for TOEFL Score = KstestResult(statistic=1.0, pvalue=0.0)\n",
      "Kolmogorov Test for University Rating = KstestResult(statistic=0.9122498680518207, pvalue=0.0)\n",
      "Kolmogorov Test for SOP = KstestResult(statistic=0.9181927987311419, pvalue=0.0)\n",
      "Kolmogorov Test for LOR  = KstestResult(statistic=0.9572498680518208, pvalue=0.0)\n",
      "Kolmogorov Test for CGPA = KstestResult(statistic=0.9999999999947691, pvalue=0.0)\n",
      "Kolmogorov Test for Research = KstestResult(statistic=0.5, pvalue=5.390131481240781e-93)\n",
      "Kolmogorov Test for Chance of Admit  = KstestResult(statistic=0.6452572731517505, pvalue=7.148882731189418e-163)\n"
     ]
    }
   ],
   "source": [
    "#Kolmogorov Smirnov Test for Normality\n",
    "from scipy.stats import kstest\n",
    "\n",
    "feature_list = list(train.columns)\n",
    "for feature in feature_list:\n",
    "    output = kstest(train[feature], 'norm', N=100)\n",
    "    print(f'Kolmogorov Test for {feature} = {output}')"
   ]
  },
  {
   "cell_type": "markdown",
   "metadata": {},
   "source": [
    "### scipy.stats import normaltest\n",
    "\n",
    "- Test whether a sample differs from a `normal distribution`. This function tests the `null hypothesis` that a sample comes from a `normal distribution`. It is based on `D’Agostino` and `Pearson’s test` that combines `skew` and `kurtosis` to produce an `omnibus test of normality`."
   ]
  },
  {
   "cell_type": "code",
   "execution_count": 16,
   "metadata": {},
   "outputs": [
    {
     "name": "stdout",
     "output_type": "stream",
     "text": [
      "p-value for normal test for GRE Score = 4.714531292500165e-05\n",
      "p-value for normal test for TOEFL Score = 0.003945790155853822\n",
      "p-value for normal test for University Rating = 8.481821275449478e-08\n",
      "p-value for normal test for SOP = 1.2935069117407045e-05\n",
      "p-value for normal test for LOR  = 0.0001848420027465647\n",
      "p-value for normal test for CGPA = 0.052520729609327604\n",
      "p-value for normal test for Research = 0.0\n",
      "p-value for normal test for Chance of Admit  = 0.0028666562891090314\n"
     ]
    }
   ],
   "source": [
    "# Test for normality\n",
    "from scipy.stats import normaltest\n",
    "\n",
    "feature_list = list(train.columns)\n",
    "for feature in feature_list:\n",
    "    output, p = normaltest(train[feature])\n",
    "    print(f'p-value for normal test for {feature} = {p}')"
   ]
  },
  {
   "cell_type": "code",
   "execution_count": 17,
   "metadata": {},
   "outputs": [],
   "source": [
    "# pick up the categorical data\n",
    "cat_df = train[['University Rating', 'Research', 'Chance of Admit ']]\n",
    "\n",
    "# drop categorical data to pick numerical data\n",
    "num_df = train.drop(['University Rating', 'Research', 'Chance of Admit '], axis=1)"
   ]
  },
  {
   "cell_type": "code",
   "execution_count": 18,
   "metadata": {},
   "outputs": [],
   "source": [
    "# Do same thing for the test data\n",
    "cat_test_df = test[['University Rating', 'Research', 'Chance of Admit ']].reset_index(drop=True)\n",
    "num_test_df = test.drop(['University Rating', 'Research', 'Chance of Admit '], axis=1)"
   ]
  },
  {
   "cell_type": "code",
   "execution_count": 19,
   "metadata": {},
   "outputs": [
    {
     "data": {
      "text/plain": [
       "(100, 3)"
      ]
     },
     "execution_count": 19,
     "metadata": {},
     "output_type": "execute_result"
    }
   ],
   "source": [
    "#  shape of the categorical data\n",
    "cat_test_df.shape"
   ]
  },
  {
   "cell_type": "code",
   "execution_count": 20,
   "metadata": {},
   "outputs": [
    {
     "data": {
      "text/plain": [
       "(100, 5)"
      ]
     },
     "execution_count": 20,
     "metadata": {},
     "output_type": "execute_result"
    }
   ],
   "source": [
    "# shape of the numerical data\n",
    "num_test_df.shape"
   ]
  },
  {
   "cell_type": "markdown",
   "metadata": {},
   "source": [
    "### PowerTransformer\n",
    "\n",
    "- Apply a power transform featurewise to make data more Gaussian-like. Power transforms are a family of `parametric`, `monotonic transformations` that are applied to make data more `Gaussian-like`. This is useful for modeling issues related to heteroscedasticity (non-constant variance), or other situations where normality is desired.\n",
    "\n",
    "- Currently, PowerTransformer supports the `Box-Cox transform` and the `Yeo-Johnson transform`. The optimal parameter for stabilizing variance and minimizing skewness is estimated through maximum likelihood.\n",
    "\n",
    "- `Box-Cox` requires input data to be strictly positive, while `Yeo-Johnson` supports both positive or negative data.\n",
    "\n",
    "- By default, `zero-mean`, `unit-variance normalization` is applied to the transformed data."
   ]
  },
  {
   "cell_type": "code",
   "execution_count": 21,
   "metadata": {},
   "outputs": [],
   "source": [
    "from sklearn.preprocessing import PowerTransformer # import powertransformer library\n",
    "pt = PowerTransformer(method='box-cox')  # initialize the library\n",
    "# pt.fit(num_df)\n",
    "train_num_trans = pt.fit_transform(num_df)  # fit and transform on the training numerical data\n",
    "test_num_trans = pt.fit_transform(num_test_df)  # fit and transform on the testing numerical data"
   ]
  },
  {
   "cell_type": "code",
   "execution_count": 22,
   "metadata": {},
   "outputs": [],
   "source": [
    "train_num_trans_df = pd.DataFrame(train_num_trans, columns=num_df.columns)  # Add column names to the train data\n",
    "test_num_trans_df = pd.DataFrame(test_num_trans, columns=num_df.columns)    # Add column names to the test data"
   ]
  },
  {
   "cell_type": "code",
   "execution_count": 23,
   "metadata": {},
   "outputs": [],
   "source": [
    "train_df = pd.concat([cat_df, train_num_trans_df], axis=1) # concat with the categorical data for the train data\n",
    "test_df = pd.concat([cat_test_df, test_num_trans_df], axis=1)  # concat with the categorical data for the test data"
   ]
  },
  {
   "cell_type": "code",
   "execution_count": 24,
   "metadata": {},
   "outputs": [
    {
     "name": "stdout",
     "output_type": "stream",
     "text": [
      "(400, 8)\n",
      "(100, 8)\n"
     ]
    }
   ],
   "source": [
    "print(train_df.shape)  # print shape\n",
    "print(test_df.shape)   # print shape"
   ]
  },
  {
   "cell_type": "code",
   "execution_count": 25,
   "metadata": {},
   "outputs": [
    {
     "data": {
      "text/html": [
       "<div>\n",
       "<style scoped>\n",
       "    .dataframe tbody tr th:only-of-type {\n",
       "        vertical-align: middle;\n",
       "    }\n",
       "\n",
       "    .dataframe tbody tr th {\n",
       "        vertical-align: top;\n",
       "    }\n",
       "\n",
       "    .dataframe thead th {\n",
       "        text-align: right;\n",
       "    }\n",
       "</style>\n",
       "<table border=\"1\" class=\"dataframe\">\n",
       "  <thead>\n",
       "    <tr style=\"text-align: right;\">\n",
       "      <th></th>\n",
       "      <th>University Rating</th>\n",
       "      <th>Research</th>\n",
       "      <th>Chance of Admit</th>\n",
       "      <th>GRE Score</th>\n",
       "      <th>TOEFL Score</th>\n",
       "      <th>SOP</th>\n",
       "      <th>LOR</th>\n",
       "      <th>CGPA</th>\n",
       "    </tr>\n",
       "  </thead>\n",
       "  <tbody>\n",
       "    <tr>\n",
       "      <th>95</th>\n",
       "      <td>5</td>\n",
       "      <td>1</td>\n",
       "      <td>0.87</td>\n",
       "      <td>1.609810</td>\n",
       "      <td>0.343800</td>\n",
       "      <td>1.333065</td>\n",
       "      <td>0.343861</td>\n",
       "      <td>0.861332</td>\n",
       "    </tr>\n",
       "    <tr>\n",
       "      <th>96</th>\n",
       "      <td>5</td>\n",
       "      <td>1</td>\n",
       "      <td>0.96</td>\n",
       "      <td>2.082851</td>\n",
       "      <td>1.647499</td>\n",
       "      <td>1.865700</td>\n",
       "      <td>1.440195</td>\n",
       "      <td>2.054571</td>\n",
       "    </tr>\n",
       "    <tr>\n",
       "      <th>97</th>\n",
       "      <td>5</td>\n",
       "      <td>1</td>\n",
       "      <td>0.93</td>\n",
       "      <td>1.420202</td>\n",
       "      <td>2.029011</td>\n",
       "      <td>1.333065</td>\n",
       "      <td>1.440195</td>\n",
       "      <td>1.633787</td>\n",
       "    </tr>\n",
       "    <tr>\n",
       "      <th>98</th>\n",
       "      <td>4</td>\n",
       "      <td>0</td>\n",
       "      <td>0.73</td>\n",
       "      <td>-0.296651</td>\n",
       "      <td>-0.503569</td>\n",
       "      <td>0.797170</td>\n",
       "      <td>1.440195</td>\n",
       "      <td>-0.046885</td>\n",
       "    </tr>\n",
       "    <tr>\n",
       "      <th>99</th>\n",
       "      <td>4</td>\n",
       "      <td>0</td>\n",
       "      <td>0.84</td>\n",
       "      <td>1.135366</td>\n",
       "      <td>1.099665</td>\n",
       "      <td>1.333065</td>\n",
       "      <td>0.880342</td>\n",
       "      <td>0.890895</td>\n",
       "    </tr>\n",
       "  </tbody>\n",
       "</table>\n",
       "</div>"
      ],
      "text/plain": [
       "    University Rating  Research  Chance of Admit   GRE Score  TOEFL Score  \\\n",
       "95                  5         1              0.87   1.609810     0.343800   \n",
       "96                  5         1              0.96   2.082851     1.647499   \n",
       "97                  5         1              0.93   1.420202     2.029011   \n",
       "98                  4         0              0.73  -0.296651    -0.503569   \n",
       "99                  4         0              0.84   1.135366     1.099665   \n",
       "\n",
       "         SOP      LOR       CGPA  \n",
       "95  1.333065  0.343861  0.861332  \n",
       "96  1.865700  1.440195  2.054571  \n",
       "97  1.333065  1.440195  1.633787  \n",
       "98  0.797170  1.440195 -0.046885  \n",
       "99  1.333065  0.880342  0.890895  "
      ]
     },
     "execution_count": 25,
     "metadata": {},
     "output_type": "execute_result"
    }
   ],
   "source": [
    "test_df.tail() # print last 5 rows of the test data"
   ]
  },
  {
   "cell_type": "code",
   "execution_count": 26,
   "metadata": {},
   "outputs": [
    {
     "data": {
      "text/html": [
       "<div>\n",
       "<style scoped>\n",
       "    .dataframe tbody tr th:only-of-type {\n",
       "        vertical-align: middle;\n",
       "    }\n",
       "\n",
       "    .dataframe tbody tr th {\n",
       "        vertical-align: top;\n",
       "    }\n",
       "\n",
       "    .dataframe thead th {\n",
       "        text-align: right;\n",
       "    }\n",
       "</style>\n",
       "<table border=\"1\" class=\"dataframe\">\n",
       "  <thead>\n",
       "    <tr style=\"text-align: right;\">\n",
       "      <th></th>\n",
       "      <th>University Rating</th>\n",
       "      <th>Research</th>\n",
       "      <th>Chance of Admit</th>\n",
       "      <th>GRE Score</th>\n",
       "      <th>TOEFL Score</th>\n",
       "      <th>SOP</th>\n",
       "      <th>LOR</th>\n",
       "      <th>CGPA</th>\n",
       "    </tr>\n",
       "  </thead>\n",
       "  <tbody>\n",
       "    <tr>\n",
       "      <th>0</th>\n",
       "      <td>4</td>\n",
       "      <td>1</td>\n",
       "      <td>0.92</td>\n",
       "      <td>1.789413</td>\n",
       "      <td>1.718552</td>\n",
       "      <td>1.114575</td>\n",
       "      <td>1.172165</td>\n",
       "      <td>1.789231</td>\n",
       "    </tr>\n",
       "    <tr>\n",
       "      <th>1</th>\n",
       "      <td>4</td>\n",
       "      <td>1</td>\n",
       "      <td>0.76</td>\n",
       "      <td>0.620599</td>\n",
       "      <td>-0.053072</td>\n",
       "      <td>0.580393</td>\n",
       "      <td>1.172165</td>\n",
       "      <td>0.446813</td>\n",
       "    </tr>\n",
       "    <tr>\n",
       "      <th>2</th>\n",
       "      <td>3</td>\n",
       "      <td>1</td>\n",
       "      <td>0.72</td>\n",
       "      <td>-0.082899</td>\n",
       "      <td>-0.552429</td>\n",
       "      <td>-0.437371</td>\n",
       "      <td>0.044416</td>\n",
       "      <td>-1.006434</td>\n",
       "    </tr>\n",
       "    <tr>\n",
       "      <th>3</th>\n",
       "      <td>3</td>\n",
       "      <td>1</td>\n",
       "      <td>0.80</td>\n",
       "      <td>0.443592</td>\n",
       "      <td>0.439093</td>\n",
       "      <td>0.062500</td>\n",
       "      <td>-1.062535</td>\n",
       "      <td>0.108515</td>\n",
       "    </tr>\n",
       "    <tr>\n",
       "      <th>4</th>\n",
       "      <td>2</td>\n",
       "      <td>0</td>\n",
       "      <td>0.65</td>\n",
       "      <td>-0.256882</td>\n",
       "      <td>-0.720535</td>\n",
       "      <td>-1.373337</td>\n",
       "      <td>-0.512037</td>\n",
       "      <td>-0.660067</td>\n",
       "    </tr>\n",
       "  </tbody>\n",
       "</table>\n",
       "</div>"
      ],
      "text/plain": [
       "   University Rating  Research  Chance of Admit   GRE Score  TOEFL Score  \\\n",
       "0                  4         1              0.92   1.789413     1.718552   \n",
       "1                  4         1              0.76   0.620599    -0.053072   \n",
       "2                  3         1              0.72  -0.082899    -0.552429   \n",
       "3                  3         1              0.80   0.443592     0.439093   \n",
       "4                  2         0              0.65  -0.256882    -0.720535   \n",
       "\n",
       "        SOP      LOR       CGPA  \n",
       "0  1.114575  1.172165  1.789231  \n",
       "1  0.580393  1.172165  0.446813  \n",
       "2 -0.437371  0.044416 -1.006434  \n",
       "3  0.062500 -1.062535  0.108515  \n",
       "4 -1.373337 -0.512037 -0.660067  "
      ]
     },
     "execution_count": 26,
     "metadata": {},
     "output_type": "execute_result"
    }
   ],
   "source": [
    "train_df.head()  # print first 5 rows of the train data"
   ]
  },
  {
   "cell_type": "code",
   "execution_count": 27,
   "metadata": {},
   "outputs": [
    {
     "data": {
      "text/plain": [
       "count    400.000000\n",
       "mean       0.724350\n",
       "std        0.142609\n",
       "min        0.340000\n",
       "25%        0.640000\n",
       "50%        0.730000\n",
       "75%        0.830000\n",
       "max        0.970000\n",
       "Name: Chance of Admit , dtype: float64"
      ]
     },
     "execution_count": 27,
     "metadata": {},
     "output_type": "execute_result"
    }
   ],
   "source": [
    "train_df['Chance of Admit '].describe()   # statistics inference from the Chance of Admit feature"
   ]
  },
  {
   "cell_type": "markdown",
   "metadata": {},
   "source": [
    "## Modelling"
   ]
  },
  {
   "cell_type": "code",
   "execution_count": 28,
   "metadata": {},
   "outputs": [],
   "source": [
    "from sklearn.model_selection import KFold  # K-Folds cross-validator\n",
    "from sklearn.metrics import mean_squared_error  # Evaluation metrics\n",
    "from sklearn.linear_model import LinearRegression, BayesianRidge, HuberRegressor, RANSACRegressor, Lasso, Ridge, ElasticNet"
   ]
  },
  {
   "cell_type": "code",
   "execution_count": 29,
   "metadata": {},
   "outputs": [],
   "source": [
    "#creating dummy variables for University Rating and Research\n",
    "train_df = pd.get_dummies(train_df, columns=['University Rating', 'Research'], drop_first=True)\n",
    "test_df = pd.get_dummies(test_df, columns=['University Rating', 'Research'], drop_first=True)"
   ]
  },
  {
   "cell_type": "code",
   "execution_count": 30,
   "metadata": {},
   "outputs": [
    {
     "data": {
      "text/html": [
       "<div>\n",
       "<style scoped>\n",
       "    .dataframe tbody tr th:only-of-type {\n",
       "        vertical-align: middle;\n",
       "    }\n",
       "\n",
       "    .dataframe tbody tr th {\n",
       "        vertical-align: top;\n",
       "    }\n",
       "\n",
       "    .dataframe thead th {\n",
       "        text-align: right;\n",
       "    }\n",
       "</style>\n",
       "<table border=\"1\" class=\"dataframe\">\n",
       "  <thead>\n",
       "    <tr style=\"text-align: right;\">\n",
       "      <th></th>\n",
       "      <th>Chance of Admit</th>\n",
       "      <th>GRE Score</th>\n",
       "      <th>TOEFL Score</th>\n",
       "      <th>SOP</th>\n",
       "      <th>LOR</th>\n",
       "      <th>CGPA</th>\n",
       "      <th>University Rating_2</th>\n",
       "      <th>University Rating_3</th>\n",
       "      <th>University Rating_4</th>\n",
       "      <th>University Rating_5</th>\n",
       "      <th>Research_1</th>\n",
       "    </tr>\n",
       "  </thead>\n",
       "  <tbody>\n",
       "    <tr>\n",
       "      <th>0</th>\n",
       "      <td>0.92</td>\n",
       "      <td>1.789413</td>\n",
       "      <td>1.718552</td>\n",
       "      <td>1.114575</td>\n",
       "      <td>1.172165</td>\n",
       "      <td>1.789231</td>\n",
       "      <td>0</td>\n",
       "      <td>0</td>\n",
       "      <td>1</td>\n",
       "      <td>0</td>\n",
       "      <td>1</td>\n",
       "    </tr>\n",
       "    <tr>\n",
       "      <th>1</th>\n",
       "      <td>0.76</td>\n",
       "      <td>0.620599</td>\n",
       "      <td>-0.053072</td>\n",
       "      <td>0.580393</td>\n",
       "      <td>1.172165</td>\n",
       "      <td>0.446813</td>\n",
       "      <td>0</td>\n",
       "      <td>0</td>\n",
       "      <td>1</td>\n",
       "      <td>0</td>\n",
       "      <td>1</td>\n",
       "    </tr>\n",
       "    <tr>\n",
       "      <th>2</th>\n",
       "      <td>0.72</td>\n",
       "      <td>-0.082899</td>\n",
       "      <td>-0.552429</td>\n",
       "      <td>-0.437371</td>\n",
       "      <td>0.044416</td>\n",
       "      <td>-1.006434</td>\n",
       "      <td>0</td>\n",
       "      <td>1</td>\n",
       "      <td>0</td>\n",
       "      <td>0</td>\n",
       "      <td>1</td>\n",
       "    </tr>\n",
       "    <tr>\n",
       "      <th>3</th>\n",
       "      <td>0.80</td>\n",
       "      <td>0.443592</td>\n",
       "      <td>0.439093</td>\n",
       "      <td>0.062500</td>\n",
       "      <td>-1.062535</td>\n",
       "      <td>0.108515</td>\n",
       "      <td>0</td>\n",
       "      <td>1</td>\n",
       "      <td>0</td>\n",
       "      <td>0</td>\n",
       "      <td>1</td>\n",
       "    </tr>\n",
       "    <tr>\n",
       "      <th>4</th>\n",
       "      <td>0.65</td>\n",
       "      <td>-0.256882</td>\n",
       "      <td>-0.720535</td>\n",
       "      <td>-1.373337</td>\n",
       "      <td>-0.512037</td>\n",
       "      <td>-0.660067</td>\n",
       "      <td>1</td>\n",
       "      <td>0</td>\n",
       "      <td>0</td>\n",
       "      <td>0</td>\n",
       "      <td>0</td>\n",
       "    </tr>\n",
       "  </tbody>\n",
       "</table>\n",
       "</div>"
      ],
      "text/plain": [
       "   Chance of Admit   GRE Score  TOEFL Score       SOP      LOR       CGPA  \\\n",
       "0              0.92   1.789413     1.718552  1.114575  1.172165  1.789231   \n",
       "1              0.76   0.620599    -0.053072  0.580393  1.172165  0.446813   \n",
       "2              0.72  -0.082899    -0.552429 -0.437371  0.044416 -1.006434   \n",
       "3              0.80   0.443592     0.439093  0.062500 -1.062535  0.108515   \n",
       "4              0.65  -0.256882    -0.720535 -1.373337 -0.512037 -0.660067   \n",
       "\n",
       "   University Rating_2  University Rating_3  University Rating_4  \\\n",
       "0                    0                    0                    1   \n",
       "1                    0                    0                    1   \n",
       "2                    0                    1                    0   \n",
       "3                    0                    1                    0   \n",
       "4                    1                    0                    0   \n",
       "\n",
       "   University Rating_5  Research_1  \n",
       "0                    0           1  \n",
       "1                    0           1  \n",
       "2                    0           1  \n",
       "3                    0           1  \n",
       "4                    0           0  "
      ]
     },
     "execution_count": 30,
     "metadata": {},
     "output_type": "execute_result"
    }
   ],
   "source": [
    "train_df.head()"
   ]
  },
  {
   "cell_type": "code",
   "execution_count": 31,
   "metadata": {},
   "outputs": [],
   "source": [
    "## Transforming our target \n",
    "from scipy.stats import boxcox   # Return a dataset transformed by a Box-Cox power transforma\n",
    "train_df['Chance of Admit '], lambd = boxcox(train_df['Chance of Admit '])"
   ]
  },
  {
   "cell_type": "code",
   "execution_count": 32,
   "metadata": {},
   "outputs": [],
   "source": [
    "test_df['Chance of Admit '] = boxcox(test_df['Chance of Admit '], lmbda=lambd) "
   ]
  },
  {
   "cell_type": "code",
   "execution_count": 33,
   "metadata": {},
   "outputs": [],
   "source": [
    "# Splitting into features and Targets\n",
    "# The test set is isolated for final evaluation\n",
    "X = train_df.drop(['Chance of Admit '], axis=1)\n",
    "y = train_df['Chance of Admit ']"
   ]
  },
  {
   "cell_type": "markdown",
   "metadata": {},
   "source": [
    "## Linear Models\n",
    "#### I ran multiple linear models using 10 fold cross validation to see how each performed"
   ]
  },
  {
   "cell_type": "markdown",
   "metadata": {},
   "source": [
    "Click the link for detailed explanation of Cross validation <a id='https://scikit-learn.org/stable/modules/cross_validation.html#cross-validation%22%3ECross'>Cross Validation in details</a>\n",
    "\n",
    "The K-Fold cross validation in details <a id='https://scikit-learn.org/stable/modules/generated/sklearn.model_selection.KFold.html'>K Fold cross-validator</a>"
   ]
  },
  {
   "cell_type": "markdown",
   "metadata": {},
   "source": [
    "### The use of Cross Validation\n",
    "\n",
    "- Learning the parameters of a prediction function and testing it on the same data is a methodological mistake: a model that would just repeat the labels of the samples that it has just seen would have a perfect score but would fail to predict anything useful on yet-unseen data. This situation is called overfitting. To avoid it, it is common practice when performing a (supervised) machine learning experiment to hold out part of the available data as a test set X_test, y_test. \n",
    "\n",
    "\n",
    "- When evaluating different settings (“hyperparameters”) for estimators, there is still a risk of overfitting on the test set because the parameters can be tweaked until the estimator performs optimally. This way, knowledge about the test set can “leak” into the model and evaluation metrics no longer report on generalization performance. To solve this problem, yet another part of the dataset can be held out as a so-called “validation set”: training proceeds on the training set, after which evaluation is done on the validation set, and when the experiment seems to be successful, final evaluation can be done on the test set. \n",
    "\n",
    "\n",
    "- However, by partitioning the available data into three sets, we drastically reduce the number of samples which can be used for learning the model, and the results can depend on a particular random choice for the pair of (train, validation) sets.\n",
    "\n",
    "\n",
    "- A solution to this problem is a procedure called cross-validation (CV for short). A test set should still be held out for final evaluation, but the validation set is no longer needed when doing CV. In the basic approach, called k-fold CV, the training set is split into k smaller sets\n",
    "\n",
    "\n",
    "- The following procedure is followed for each of the k “folds”:\n",
    "\n",
    "    - A model is trained using **k - 1** of the folds as training data;\n",
    "    \n",
    "    - the resulting model is validated on the remaining part of the data (i.e., it is used as a test set to compute a performance measure such as accuracy).\n",
    "    \n",
    "    \n",
    "- The performance measure reported by k-fold cross-validation is then the average of the values computed in the loop. This approach can be computationally expensive, but does not waste too much data (as is the case when fixing an arbitrary validation set), which is a major advantage in problems such as inverse inference where the number of samples is very small."
   ]
  },
  {
   "cell_type": "code",
   "execution_count": 50,
   "metadata": {},
   "outputs": [
    {
     "name": "stdout",
     "output_type": "stream",
     "text": [
      "Mean RMSE Value for LinearRegression = 0.04804980878644252\n",
      "Coefficient of Determination = 0.818\n"
     ]
    }
   ],
   "source": [
    "fold = KFold(n_splits=10, random_state=2020, shuffle=True)\n",
    "from sklearn.metrics import r2_score\n",
    "\n",
    "rmse_list = []\n",
    "f_num = 0\n",
    "cof_det = []\n",
    "\n",
    "for train_index, val_index in fold.split(X, y):\n",
    "    x_train, x_val = X.iloc[train_index], X.iloc[val_index]\n",
    "    y_train, y_val = y.iloc[train_index], y.iloc[val_index]\n",
    "    \n",
    "    model= LinearRegression()  # Instantiate the Linear regression model\n",
    "    model.fit(x_train, y_train)\n",
    "    p_val = model.predict(x_val)\n",
    "    rmse = np.sqrt(mean_squared_error(y_val, p_val))\n",
    "#     print(f'Fold----{f_num} RMSE = {rmse}')\n",
    "    rmse_list.append(rmse)\n",
    "#     f_num+=1\n",
    "#     check for coefficient of determination score\n",
    "    score = r2_score(y_val.values.reshape(-1,1), p_val)\n",
    "    cof_det.append(score)\n",
    "    \n",
    "print(f'Mean RMSE Value for LinearRegression = {np.mean(rmse_list)}')\n",
    "print(f'Coefficient of Determination = {np.mean(np.round((cof_det), 2))}')"
   ]
  },
  {
   "cell_type": "code",
   "execution_count": 52,
   "metadata": {},
   "outputs": [
    {
     "name": "stdout",
     "output_type": "stream",
     "text": [
      "Mean RMSE Value for BayesianRidge = 0.04795102853202187\n",
      "Coefficient of Determination = 0.819\n"
     ]
    }
   ],
   "source": [
    "# Read more on BayesianRidge Regressor https://scikit-learn.org/stable/modules/linear_model.html#bayesian-regression\n",
    "\n",
    "rmse_list = []\n",
    "cof_det = []\n",
    "for train_index, val_index in fold.split(X, y):\n",
    "    x_train, x_val = X.iloc[train_index], X.iloc[val_index]\n",
    "    y_train, y_val = y.iloc[train_index], y.iloc[val_index]\n",
    "    \n",
    "    model2= BayesianRidge()\n",
    "    model2.fit(x_train, y_train)\n",
    "    p_val = model2.predict(x_val)\n",
    "    rmse = np.sqrt(mean_squared_error(y_val, p_val))\n",
    "#     print(f'Fold----{f_num} RMSE = {rmse}')\n",
    "    rmse_list.append(rmse)\n",
    "#     f_num+=1\n",
    "#     check for coefficient of determination score\n",
    "    score = r2_score(y_val.values.reshape(-1,1), p_val)\n",
    "    cof_det.append(score)\n",
    "    \n",
    "print(f'Mean RMSE Value for BayesianRidge = {np.mean(rmse_list)}')\n",
    "print(f'Coefficient of Determination = {np.mean(np.round((cof_det), 2))}')"
   ]
  },
  {
   "cell_type": "code",
   "execution_count": 57,
   "metadata": {},
   "outputs": [
    {
     "name": "stdout",
     "output_type": "stream",
     "text": [
      "Mean RMSE Value for Huber Regressor= 0.04813133929895365\n",
      "Coefficient of Determination = 0.8160000000000001\n"
     ]
    }
   ],
   "source": [
    "# Read more on HuberRegressor   https://scikit-learn.org/stable/modules/linear_model.html#huber-regression\n",
    " \n",
    "rmse_list = []\n",
    "cof_det = []\n",
    "\n",
    "for train_index, val_index in fold.split(X, y):\n",
    "    x_train, x_val = X.iloc[train_index], X.iloc[val_index]\n",
    "    y_train, y_val = y.iloc[train_index], y.iloc[val_index]\n",
    "    \n",
    "    model2= HuberRegressor(max_iter=2000)\n",
    "    model2.fit(x_train, y_train)\n",
    "    p_val = model2.predict(x_val)\n",
    "    rmse = np.sqrt(mean_squared_error(y_val, p_val))\n",
    "#     print(f'Fold----{f_num} RMSE = {rmse}')\n",
    "    rmse_list.append(rmse)\n",
    "#     f_num+=1\n",
    "#     check for coefficient of determination score\n",
    "    score = r2_score(y_val.values.reshape(-1,1), p_val)\n",
    "    cof_det.append(score)\n",
    "\n",
    "print(f'Mean RMSE Value for Huber Regressor= {np.mean(rmse_list)}')\n",
    "print(f'Coefficient of Determination = {np.mean(np.round((cof_det), 2))}')"
   ]
  },
  {
   "cell_type": "code",
   "execution_count": 58,
   "metadata": {},
   "outputs": [
    {
     "name": "stdout",
     "output_type": "stream",
     "text": [
      "Mean RMSE Value for RANSACRegressor = 0.04798723613106889\n",
      "Coefficient of Determination = 0.818\n"
     ]
    }
   ],
   "source": [
    "# Read more on RANSACRegressor  \n",
    "# https://scikit-learn.org/stable/modules/generated/sklearn.linear_model.RANSACRegressor.html?highlight=ransacregressor#sklearn.linear_model.RANSACRegressor\n",
    "# https://scikit-learn.org/stable/modules/linear_model.html#ransac-regression\n",
    "# RANSAC (RANdom SAmple Consensus) algorithm.\n",
    "rmse_list = []\n",
    "cof_det = []\n",
    "\n",
    "for train_index, val_index in fold.split(X, y):\n",
    "    x_train, x_val = X.iloc[train_index], X.iloc[val_index]\n",
    "    y_train, y_val = y.iloc[train_index], y.iloc[val_index]\n",
    "    \n",
    "    model2= RANSACRegressor(loss='squared_loss', random_state=42)\n",
    "    model2.fit(x_train, y_train)\n",
    "    p_val = model2.predict(x_val)\n",
    "    rmse = np.sqrt(mean_squared_error(y_val, p_val))\n",
    "#     print(f'Fold----{f_num} RMSE = {rmse}')\n",
    "    rmse_list.append(rmse)\n",
    "#     f_num+=1\n",
    "#     check for coefficient of determination score\n",
    "    score = r2_score(y_val.values.reshape(-1,1), p_val)\n",
    "    cof_det.append(score)\n",
    "\n",
    "print(f'Mean RMSE Value for RANSACRegressor = {np.mean(rmse_list)}')\n",
    "print(f'Coefficient of Determination = {np.mean(np.round((cof_det), 2))}')"
   ]
  },
  {
   "cell_type": "code",
   "execution_count": 59,
   "metadata": {},
   "outputs": [
    {
     "name": "stdout",
     "output_type": "stream",
     "text": [
      "Mean RMSE Value for Ridge = 0.04804980465031069\n",
      "Coefficient of Determination = 0.818\n"
     ]
    }
   ],
   "source": [
    "# Read more on how to implement Ridge \n",
    "# https://scikit-learn.org/stable/modules/generated/sklearn.linear_model.Ridge.html?highlight=ridge#sklearn.linear_model.Ridge\n",
    "# https://scikit-learn.org/stable/modules/linear_model.html#ridge-regression\n",
    "rmse_list = []\n",
    "cof_det = []\n",
    "\n",
    "for train_index, val_index in fold.split(X, y):\n",
    "    x_train, x_val = X.iloc[train_index], X.iloc[val_index]\n",
    "    y_train, y_val = y.iloc[train_index], y.iloc[val_index]\n",
    "    \n",
    "    model2= Ridge(alpha=0.0001)\n",
    "    model2.fit(x_train, y_train)\n",
    "    p_val = model2.predict(x_val)\n",
    "    rmse = np.sqrt(mean_squared_error(y_val, p_val))\n",
    "#     print(f'Fold----{f_num} RMSE = {rmse}')\n",
    "    rmse_list.append(rmse)\n",
    "#     f_num+=1\n",
    "#     check for coefficient of determination score\n",
    "    score = r2_score(y_val.values.reshape(-1,1), p_val)\n",
    "    cof_det.append(score)\n",
    "\n",
    "\n",
    "print(f'Mean RMSE Value for Ridge = {np.mean(rmse_list)}')\n",
    "print(f'Coefficient of Determination = {np.mean(np.round((cof_det), 2))}')"
   ]
  },
  {
   "cell_type": "code",
   "execution_count": 60,
   "metadata": {},
   "outputs": [
    {
     "name": "stdout",
     "output_type": "stream",
     "text": [
      "Mean RMSE Value for Lasso = 0.04803302240801192\n",
      "Coefficient of Determination = 0.819\n"
     ]
    }
   ],
   "source": [
    "# Read more on how to implement Lasso\n",
    "# https://scikit-learn.org/stable/modules/generated/sklearn.linear_model.Lasso.html?highlight=lasso#sklearn.linear_model.Lasso\n",
    "# https://scikit-learn.org/stable/modules/linear_model.html#lasso\n",
    "\n",
    "rmse_list = []\n",
    "cof_det = []\n",
    "\n",
    "for train_index, val_index in fold.split(X, y):\n",
    "    x_train, x_val = X.iloc[train_index], X.iloc[val_index]\n",
    "    y_train, y_val = y.iloc[train_index], y.iloc[val_index]\n",
    "    \n",
    "    model2= Lasso(alpha=0.0001)\n",
    "    model2.fit(x_train, y_train)\n",
    "    p_val = model2.predict(x_val)\n",
    "    rmse = np.sqrt(mean_squared_error(y_val, p_val))\n",
    "#     print(f'Fold----{f_num} RMSE = {rmse}')\n",
    "    rmse_list.append(rmse)\n",
    "#     f_num+=1\n",
    "#     check for coefficient of determination score\n",
    "    score = r2_score(y_val.values.reshape(-1,1), p_val)\n",
    "    cof_det.append(score)\n",
    "\n",
    "print(f'Mean RMSE Value for Lasso = {np.mean(rmse_list)}')\n",
    "print(f'Coefficient of Determination = {np.mean(np.round((cof_det), 2))}')"
   ]
  },
  {
   "cell_type": "markdown",
   "metadata": {},
   "source": [
    "## Tree Based Model"
   ]
  },
  {
   "cell_type": "code",
   "execution_count": 62,
   "metadata": {},
   "outputs": [],
   "source": [
    "from xgboost import XGBRegressor"
   ]
  },
  {
   "cell_type": "markdown",
   "metadata": {},
   "source": [
    "Example on Kaggle for implementing XGBRegressor with gridsearchcv <a href='https://www.kaggle.com/jayatou/xgbregressor-with-gridsearchcv'>XGB Regressor with Gridsearch cv</a>\n",
    "\n",
    "<a href=\"https://www.kaggle.com/gayathrydasika/xgb-regressor-basic\">Basic XGB Regressor on kaggle</a>"
   ]
  },
  {
   "cell_type": "code",
   "execution_count": 63,
   "metadata": {},
   "outputs": [
    {
     "name": "stdout",
     "output_type": "stream",
     "text": [
      "Mean RMSE Value for XGB = 0.051517453066386276\n",
      "Coefficient of Determination = 0.7899999999999999\n"
     ]
    }
   ],
   "source": [
    "rmse_list = []\n",
    "cof_det = []\n",
    "\n",
    "for train_index, val_index in fold.split(X, y):\n",
    "    x_train, x_val = X.iloc[train_index], X.iloc[val_index]\n",
    "    y_train, y_val = y.iloc[train_index], y.iloc[val_index]\n",
    "    \n",
    "    my_mod = XGBRegressor(max_depth = 1, n_estimators = 500, min_child_weight = 7, objective='reg:squarederror')\n",
    "    my_mod.fit(x_train, y_train)\n",
    "    p_val = my_mod.predict(x_val)\n",
    "    rmse = np.sqrt(mean_squared_error(y_val, p_val))\n",
    "#     print(f'Fold----{f_num} RMSE = {rmse}')\n",
    "    rmse_list.append(rmse)\n",
    "#     f_num+=1\n",
    "\n",
    "#     check for coefficient of determination score\n",
    "    score = r2_score(y_val.values.reshape(-1,1), p_val)\n",
    "    cof_det.append(score)\n",
    "\n",
    "print(f'Mean RMSE Value for XGB = {np.mean(rmse_list)}')\n",
    "print(f'Coefficient of Determination = {np.mean(np.round((cof_det), 2))}')"
   ]
  },
  {
   "cell_type": "markdown",
   "metadata": {},
   "source": [
    "### To perform gridsearch  "
   ]
  },
  {
   "cell_type": "markdown",
   "metadata": {},
   "source": [
    "Read how to implement GridSearch Cross validation <a href=\"https://scikit-learn.org/stable/modules/generated/sklearn.model_selection.GridSearchCV.html\">GridSearch CV</a>\n",
    "\n",
    "Indept knowledge of Tuning the hyper parmeters of an estimator <a href=\"https://scikit-learn.org/stable/modules/grid_search.html#grid-search\">hyper-parameter tuning </a>"
   ]
  },
  {
   "cell_type": "code",
   "execution_count": 64,
   "metadata": {},
   "outputs": [],
   "source": [
    "X_c = X.copy()\n",
    "Y_c = y.copy()\n",
    "\n",
    "from sklearn.model_selection import train_test_split\n",
    "\n",
    "xtrain, xtest, ytrain, ytest = train_test_split(X_c, Y_c, test_size=0.2, random_state=42)"
   ]
  },
  {
   "cell_type": "code",
   "execution_count": 65,
   "metadata": {},
   "outputs": [],
   "source": [
    "from sklearn.model_selection import GridSearchCV\n",
    "params = {\"min_child_weight\" : list(range(10)),\n",
    "         \"max_depth\" : list(range(1, 6))}\n",
    "search = GridSearchCV(my_mod, param_grid = params, cv = 3, n_jobs = -1).fit(xtrain, ytrain)"
   ]
  },
  {
   "cell_type": "code",
   "execution_count": 66,
   "metadata": {},
   "outputs": [
    {
     "data": {
      "text/plain": [
       "{'max_depth': 1, 'min_child_weight': 0}"
      ]
     },
     "execution_count": 66,
     "metadata": {},
     "output_type": "execute_result"
    }
   ],
   "source": [
    "search.best_params_"
   ]
  },
  {
   "cell_type": "markdown",
   "metadata": {},
   "source": [
    "##### Based on the models considered, Bayesian Ridge model has the lowest RMSE of 0.04795"
   ]
  },
  {
   "cell_type": "markdown",
   "metadata": {},
   "source": [
    "## Training on whole data"
   ]
  },
  {
   "cell_type": "code",
   "execution_count": 67,
   "metadata": {},
   "outputs": [
    {
     "data": {
      "text/plain": [
       "BayesianRidge()"
      ]
     },
     "execution_count": 67,
     "metadata": {},
     "output_type": "execute_result"
    }
   ],
   "source": [
    "main_model = BayesianRidge()\n",
    "main_model.fit(X,y)"
   ]
  },
  {
   "cell_type": "code",
   "execution_count": 68,
   "metadata": {},
   "outputs": [
    {
     "name": "stdout",
     "output_type": "stream",
     "text": [
      "RMSE on test data = 0.0349147312716883\n"
     ]
    }
   ],
   "source": [
    "final_pred = main_model.predict(test_df.drop(['Chance of Admit '], axis=1))\n",
    "final_rmse = np.sqrt(mean_squared_error(test_df['Chance of Admit '], final_pred))\n",
    "print(f'RMSE on test data = {final_rmse}')"
   ]
  },
  {
   "cell_type": "code",
   "execution_count": 69,
   "metadata": {},
   "outputs": [
    {
     "data": {
      "text/plain": [
       "array([-0.32738091, -0.2845625 , -0.1886431 , -0.12607099, -0.35163701,\n",
       "       -0.40383735, -0.28553763, -0.3251163 , -0.34993252, -0.35232781,\n",
       "       -0.37873105, -0.35873097, -0.32051853, -0.32020486, -0.21810164,\n",
       "       -0.17652112, -0.31395138, -0.36021095, -0.29185372, -0.30922452,\n",
       "       -0.40861376, -0.16241649, -0.17824132, -0.04779657, -0.07853854,\n",
       "       -0.05926405, -0.23397076, -0.22487999, -0.23116783, -0.09153291,\n",
       "       -0.28405419, -0.19536292, -0.13766808, -0.21080249, -0.31469603,\n",
       "       -0.33933415, -0.33764571, -0.30215021, -0.21074919, -0.27877061,\n",
       "       -0.37222199, -0.18034091, -0.09274208, -0.11655213, -0.09830407,\n",
       "       -0.09869926, -0.06978577, -0.16359077, -0.20777576, -0.20603958,\n",
       "       -0.16416144, -0.12500222, -0.10167497, -0.2116724 , -0.31477361,\n",
       "       -0.37967667, -0.37925229, -0.41190995, -0.25552201, -0.12418964,\n",
       "       -0.19961695, -0.32626669, -0.32470106, -0.33909882, -0.44245419,\n",
       "       -0.30280342, -0.21903254, -0.1758133 , -0.15406708, -0.14223929,\n",
       "       -0.12674357, -0.30174945, -0.09611781, -0.30083148, -0.30941771,\n",
       "       -0.36705409, -0.3362198 , -0.31307115, -0.22810546, -0.16108858,\n",
       "       -0.1913166 , -0.23281815, -0.1864888 , -0.31930597, -0.29794497,\n",
       "       -0.27524479, -0.28881972, -0.15175421, -0.19586286, -0.25513843,\n",
       "       -0.27422364, -0.36310863, -0.3312538 , -0.34923454, -0.30717074,\n",
       "       -0.13168285, -0.02304476, -0.05086644, -0.24704775, -0.15607687])"
      ]
     },
     "execution_count": 69,
     "metadata": {},
     "output_type": "execute_result"
    }
   ],
   "source": [
    "final_pred"
   ]
  },
  {
   "cell_type": "code",
   "execution_count": 70,
   "metadata": {},
   "outputs": [],
   "source": [
    "## Rescaling our target variable\n",
    "# Compute the inverse of the Box-Cox transformation.\n",
    "from scipy.special import inv_boxcox\n",
    "final_pred_inverse = inv_boxcox(final_pred, lambd)"
   ]
  },
  {
   "cell_type": "code",
   "execution_count": 71,
   "metadata": {},
   "outputs": [
    {
     "data": {
      "text/plain": [
       "array([0.62777802, 0.68325759, 0.79856846, 0.86853585, 0.59497835,\n",
       "       0.52028319, 0.68202524, 0.63078647, 0.59731906, 0.59402808,\n",
       "       0.5569757 , 0.58517509, 0.63686756, 0.63728113, 0.76429968,\n",
       "       0.81240985, 0.64549216, 0.58311718, 0.67400968, 0.65165641,\n",
       "       0.51312264, 0.82833532, 0.81045449, 0.95147694, 0.9194509 ,\n",
       "       0.93960884, 0.74544389, 0.75628088, 0.74879548, 0.90570673,\n",
       "       0.68389945, 0.79083178, 0.85583478, 0.77287728, 0.64451777,\n",
       "       0.61174937, 0.614029  , 0.66081578, 0.7729397 , 0.69054944,\n",
       "       0.56624757, 0.80806395, 0.90442129, 0.87887632, 0.89849397,\n",
       "       0.89807192, 0.92863811, 0.82701663, 0.77641705, 0.77844307,\n",
       "       0.82637533, 0.86970062, 0.89488997, 0.77185808, 0.64441621,\n",
       "       0.55562083, 0.55622912, 0.50814525, 0.71935744, 0.87058554,\n",
       "       0.78590996, 0.62925934, 0.63133716, 0.61206741, 0.46049673,\n",
       "       0.65997331, 0.76320148, 0.81321359, 0.83767465, 0.85079658,\n",
       "       0.86780236, 0.66133232, 0.90082668, 0.66251458, 0.65140518,\n",
       "       0.5735432 , 0.61595015, 0.64664279, 0.75244681, 0.82982497,\n",
       "       0.79549593, 0.74682324, 0.80103902, 0.63846537, 0.66622371,\n",
       "       0.69496532, 0.67786729, 0.84025045, 0.79025434, 0.71982679,\n",
       "       0.69624104, 0.579075  , 0.62261244, 0.59827595, 0.65432361,\n",
       "       0.86240409, 0.97678957, 0.94830876, 0.72968316, 0.83543243])"
      ]
     },
     "execution_count": 71,
     "metadata": {},
     "output_type": "execute_result"
    }
   ],
   "source": [
    "final_pred_inverse"
   ]
  },
  {
   "cell_type": "code",
   "execution_count": 72,
   "metadata": {},
   "outputs": [
    {
     "name": "stdout",
     "output_type": "stream",
     "text": [
      "Final RMSE value on test data = 0.04577250997412102\n"
     ]
    }
   ],
   "source": [
    "## checking rmse between target variable in main scale\n",
    "main_test_rmse = np.sqrt(mean_squared_error(test['Chance of Admit '], final_pred_inverse))\n",
    "print(f'Final RMSE value on test data = {main_test_rmse}')"
   ]
  },
  {
   "cell_type": "markdown",
   "metadata": {},
   "source": [
    "#### Creating a dataframe to show coefficients of features in our model"
   ]
  },
  {
   "cell_type": "code",
   "execution_count": 73,
   "metadata": {},
   "outputs": [
    {
     "data": {
      "text/plain": [
       "-0.2497700958644695"
      ]
     },
     "execution_count": 73,
     "metadata": {},
     "output_type": "execute_result"
    }
   ],
   "source": [
    "main_model.intercept_"
   ]
  },
  {
   "cell_type": "code",
   "execution_count": 74,
   "metadata": {},
   "outputs": [],
   "source": [
    "weights = list(main_model.coef_)\n",
    "# weights"
   ]
  },
  {
   "cell_type": "code",
   "execution_count": 75,
   "metadata": {},
   "outputs": [],
   "source": [
    "weights.insert(0, main_model.intercept_)"
   ]
  },
  {
   "cell_type": "code",
   "execution_count": 76,
   "metadata": {},
   "outputs": [
    {
     "data": {
      "text/plain": [
       "Index(['GRE Score', 'TOEFL Score', 'SOP', 'LOR ', 'CGPA',\n",
       "       'University Rating_2', 'University Rating_3', 'University Rating_4',\n",
       "       'University Rating_5', 'Research_1'],\n",
       "      dtype='object')"
      ]
     },
     "execution_count": 76,
     "metadata": {},
     "output_type": "execute_result"
    }
   ],
   "source": [
    "test_df.drop(['Chance of Admit '], axis=1).columns"
   ]
  },
  {
   "cell_type": "code",
   "execution_count": 77,
   "metadata": {},
   "outputs": [],
   "source": [
    "weights_df = pd.DataFrame({'Features':['Intercept','GRE Score', 'TOEFL Score', 'SOP', 'LOR ', 'CGPA',\n",
    "                                       'University Rating_2', 'University Rating_3', 'University Rating_4',\n",
    "                                       'University Rating_5', 'Research_1'], 'Coefficients':weights})"
   ]
  },
  {
   "cell_type": "code",
   "execution_count": 78,
   "metadata": {},
   "outputs": [
    {
     "data": {
      "text/html": [
       "<div>\n",
       "<style scoped>\n",
       "    .dataframe tbody tr th:only-of-type {\n",
       "        vertical-align: middle;\n",
       "    }\n",
       "\n",
       "    .dataframe tbody tr th {\n",
       "        vertical-align: top;\n",
       "    }\n",
       "\n",
       "    .dataframe thead th {\n",
       "        text-align: right;\n",
       "    }\n",
       "</style>\n",
       "<table border=\"1\" class=\"dataframe\">\n",
       "  <thead>\n",
       "    <tr style=\"text-align: right;\">\n",
       "      <th></th>\n",
       "      <th>0</th>\n",
       "      <th>1</th>\n",
       "      <th>2</th>\n",
       "      <th>3</th>\n",
       "      <th>4</th>\n",
       "      <th>5</th>\n",
       "      <th>6</th>\n",
       "      <th>7</th>\n",
       "      <th>8</th>\n",
       "      <th>9</th>\n",
       "      <th>10</th>\n",
       "    </tr>\n",
       "  </thead>\n",
       "  <tbody>\n",
       "    <tr>\n",
       "      <th>Features</th>\n",
       "      <td>Intercept</td>\n",
       "      <td>GRE Score</td>\n",
       "      <td>TOEFL Score</td>\n",
       "      <td>SOP</td>\n",
       "      <td>LOR</td>\n",
       "      <td>CGPA</td>\n",
       "      <td>University Rating_2</td>\n",
       "      <td>University Rating_3</td>\n",
       "      <td>University Rating_4</td>\n",
       "      <td>University Rating_5</td>\n",
       "      <td>Research_1</td>\n",
       "    </tr>\n",
       "    <tr>\n",
       "      <th>Coefficients</th>\n",
       "      <td>-0.24977</td>\n",
       "      <td>0.0171074</td>\n",
       "      <td>0.0155085</td>\n",
       "      <td>-0.000227392</td>\n",
       "      <td>0.0151212</td>\n",
       "      <td>0.053527</td>\n",
       "      <td>-0.0122073</td>\n",
       "      <td>-0.0106045</td>\n",
       "      <td>-0.00347965</td>\n",
       "      <td>0.014631</td>\n",
       "      <td>0.0195838</td>\n",
       "    </tr>\n",
       "  </tbody>\n",
       "</table>\n",
       "</div>"
      ],
      "text/plain": [
       "                      0          1            2            3          4  \\\n",
       "Features      Intercept  GRE Score  TOEFL Score          SOP       LOR    \n",
       "Coefficients   -0.24977  0.0171074    0.0155085 -0.000227392  0.0151212   \n",
       "\n",
       "                     5                    6                    7  \\\n",
       "Features          CGPA  University Rating_2  University Rating_3   \n",
       "Coefficients  0.053527           -0.0122073           -0.0106045   \n",
       "\n",
       "                                8                    9          10  \n",
       "Features      University Rating_4  University Rating_5  Research_1  \n",
       "Coefficients          -0.00347965             0.014631   0.0195838  "
      ]
     },
     "execution_count": 78,
     "metadata": {},
     "output_type": "execute_result"
    }
   ],
   "source": [
    "weights_df.T"
   ]
  },
  {
   "cell_type": "code",
   "execution_count": null,
   "metadata": {},
   "outputs": [],
   "source": []
  }
 ],
 "metadata": {
  "kernelspec": {
   "display_name": "Python 3",
   "language": "python",
   "name": "python3"
  },
  "language_info": {
   "codemirror_mode": {
    "name": "ipython",
    "version": 3
   },
   "file_extension": ".py",
   "mimetype": "text/x-python",
   "name": "python",
   "nbconvert_exporter": "python",
   "pygments_lexer": "ipython3",
   "version": "3.7.3"
  }
 },
 "nbformat": 4,
 "nbformat_minor": 2
}
